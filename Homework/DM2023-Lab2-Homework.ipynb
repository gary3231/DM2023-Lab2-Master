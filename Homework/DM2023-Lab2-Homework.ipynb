{
 "cells": [
  {
   "cell_type": "markdown",
   "metadata": {},
   "source": [
    "### Student Information\n",
    "Name: 謝佳峻\n",
    "\n",
    "Student ID:112033640    \n",
    "\n",
    "GitHub ID:gary3231\n",
    "\n",
    "Kaggle name:JUN3231\n",
    "\n",
    "Kaggle private scoreboard snapshot:\n",
    "\n",
    "[Snapshot](img/score.png)\n",
    "<table><tr>\n",
    "    <td><img src=\"img/score.png\" style=\"width: 300px;\"/> </td>\n",
    "</tr></table>"
   ]
  },
  {
   "cell_type": "markdown",
   "metadata": {},
   "source": [
    "---"
   ]
  },
  {
   "cell_type": "markdown",
   "metadata": {},
   "source": [
    "### Instructions"
   ]
  },
  {
   "cell_type": "markdown",
   "metadata": {},
   "source": [
    "1. First: __This part is worth 30% of your grade.__ Do the **take home** exercises in the DM2023-Lab2-master. You may need to copy some cells from the Lab notebook to this notebook. \n",
    "\n",
    "\n",
    "2. Second: __This part is worth 30% of your grade.__ Participate in the in-class [Kaggle Competition](https://www.kaggle.com/t/09b1d0f3f8584d06848252277cb535f2) regarding Emotion Recognition on Twitter by this link https://www.kaggle.com/t/09b1d0f3f8584d06848252277cb535f2. The scoring will be given according to your place in the Private Leaderboard ranking: \n",
    "    - **Bottom 40%**: Get 20% of the 30% available for this section.\n",
    "\n",
    "    - **Top 41% - 100%**: Get (60-x)/6 + 20 points, where x is your ranking in the leaderboard (ie. If you rank 3rd your score will be (60-3)/6 + 20 = 29.5% out of 30%)   \n",
    "    Submit your last submission __BEFORE the deadline (Dec. 27th 11:59 pm, Wednesday)_. Make sure to take a screenshot of your position at the end of the competition and store it as '''pic0.png''' under the **img** folder of this repository and rerun the cell **Student Information**.\n",
    "    \n",
    "\n",
    "3. Third: __This part is worth 30% of your grade.__ A report of your work developping the model for the competition (You can use code and comment it). This report should include what your preprocessing steps, the feature engineering steps and an explanation of your model. You can also mention different things you tried and insights you gained. \n",
    "\n",
    "\n",
    "4. Fourth: __This part is worth 10% of your grade.__ It's hard for us to follow if your code is messy :'(, so please **tidy up your notebook** and **add minimal comments where needed**.\n",
    "\n",
    "\n",
    "Upload your files to your repository then submit the link to it on the corresponding e-learn assignment.\n",
    "\n",
    "Make sure to commit and save your changes to your repository __BEFORE the deadline (Dec. 31th 11:59 pm, Sunday)__. "
   ]
  },
  {
   "cell_type": "markdown",
   "metadata": {},
   "source": [
    "---\n",
    "### ** >>> Exercise 1 (Take home): **  \n",
    "Plot word frequency for Top 30 words in both train and test dataset. (Hint: refer to DM lab 1)\n"
   ]
  },
  {
   "cell_type": "code",
   "execution_count": 11,
   "metadata": {},
   "outputs": [],
   "source": [
    "import pandas as pd\n",
    "import numpy as np\n",
    "### training data\n",
    "anger_train = pd.read_csv(\"../data/semeval/train/anger-ratings-0to1.train.txt\",\n",
    "                         sep=\"\\t\", header=None,names=[\"id\", \"text\", \"emotion\", \"intensity\"])\n",
    "sadness_train = pd.read_csv(\"../data/semeval/train/sadness-ratings-0to1.train.txt\",\n",
    "                         sep=\"\\t\", header=None, names=[\"id\", \"text\", \"emotion\", \"intensity\"])\n",
    "fear_train = pd.read_csv(\"../data/semeval/train/fear-ratings-0to1.train.txt\",\n",
    "                         sep=\"\\t\", header=None, names=[\"id\", \"text\", \"emotion\", \"intensity\"])\n",
    "joy_train = pd.read_csv(\"../data/semeval/train/joy-ratings-0to1.train.txt\",\n",
    "                         sep=\"\\t\", header=None, names=[\"id\", \"text\", \"emotion\", \"intensity\"])\n",
    "train_df = pd.concat([anger_train, fear_train, joy_train, sadness_train], ignore_index=True)"
   ]
  },
  {
   "cell_type": "code",
   "execution_count": 12,
   "metadata": {},
   "outputs": [],
   "source": [
    "anger_test = pd.read_csv(\"../data/semeval/dev/anger-ratings-0to1.dev.gold.txt\",\n",
    "                         sep=\"\\t\", header=None, names=[\"id\", \"text\", \"emotion\", \"intensity\"])\n",
    "sadness_test = pd.read_csv(\"../data/semeval/dev/sadness-ratings-0to1.dev.gold.txt\",\n",
    "                         sep=\"\\t\", header=None, names=[\"id\", \"text\", \"emotion\", \"intensity\"])\n",
    "fear_test = pd.read_csv(\"../data/semeval/dev/fear-ratings-0to1.dev.gold.txt\",\n",
    "                         sep=\"\\t\", header=None, names=[\"id\", \"text\", \"emotion\", \"intensity\"])\n",
    "joy_test = pd.read_csv(\"../data/semeval/dev/joy-ratings-0to1.dev.gold.txt\",\n",
    "                         sep=\"\\t\", header=None, names=[\"id\", \"text\", \"emotion\", \"intensity\"])\n",
    "\n",
    "# combine 4 sub-dataset\n",
    "test_df = pd.concat([anger_test, fear_test, joy_test, sadness_test], ignore_index=True)"
   ]
  },
  {
   "cell_type": "code",
   "execution_count": 13,
   "metadata": {},
   "outputs": [],
   "source": [
    "# shuffle dataset\n",
    "train_df = train_df.sample(frac=1)\n",
    "test_df = test_df.sample(frac=1)"
   ]
  },
  {
   "cell_type": "code",
   "execution_count": 14,
   "metadata": {},
   "outputs": [],
   "source": [
    "# shuffle dataset\n",
    "train_df = train_df.sample(frac=1)\n",
    "test_df = test_df.sample(frac=1)"
   ]
  },
  {
   "cell_type": "code",
   "execution_count": 15,
   "metadata": {},
   "outputs": [],
   "source": [
    "from sklearn.feature_extraction.text import CountVectorizer\n",
    "\n",
    "count_vect = CountVectorizer()\n",
    "X_counts = count_vect.fit_transform(train_df.text)"
   ]
  },
  {
   "cell_type": "code",
   "execution_count": 16,
   "metadata": {},
   "outputs": [
    {
     "name": "stdout",
     "output_type": "stream",
     "text": [
      "10115\n"
     ]
    }
   ],
   "source": [
    "term_frequencies = []\n",
    "print(X_counts.shape[1])\n",
    "for j in range(0,train_df.shape[1]):\n",
    "    term_frequencies.append(sum(X_counts[:,j].toarray()))"
   ]
  },
  {
   "cell_type": "code",
   "execution_count": 17,
   "metadata": {},
   "outputs": [
    {
     "name": "stdout",
     "output_type": "stream",
     "text": [
      "['if' 'when' 'at' 'your' 'with' 'have' 'just' 'was' 'are' 'but' 'can'\n",
      " 'all' 'like' 'not' 'so' 'it' 'my' 'the' 'that' 'for' 'you' 'in' 'of'\n",
      " 'and' 'this' 'on' 'to' 'me' 'be' 'is']\n"
     ]
    }
   ],
   "source": [
    "#answer here\n",
    "\n",
    "term_frequencies = np.asarray(X_counts.sum(axis=0))[0]\n",
    "ind = np.argpartition(term_frequencies,-30)[-30:] #to get 10 bigest elements from array\n",
    "print(count_vect.get_feature_names_out()[ind])"
   ]
  },
  {
   "cell_type": "markdown",
   "metadata": {},
   "source": [
    "---\n",
    "### ** >>> Exercise 2 (Take home): **  \n",
    "Generate an embedding using the TF-IDF vectorizer instead of th BOW one with 1000 features and show the feature names for features [100:110]."
   ]
  },
  {
   "cell_type": "code",
   "execution_count": 18,
   "metadata": {},
   "outputs": [
    {
     "data": {
      "text/plain": [
       "array(['b', 'baby', 'back', 'bad', 'ball', 'balls', 'bb18', 'bc', 'bday',\n",
       "       'be'], dtype=object)"
      ]
     },
     "execution_count": 18,
     "metadata": {},
     "output_type": "execute_result"
    }
   ],
   "source": [
    "from sklearn.feature_extraction.text import TfidfVectorizer\n",
    "import nltk\n",
    "tf_idf_1000 = TfidfVectorizer(max_features=1000, tokenizer=nltk.word_tokenize,token_pattern=None) \n",
    "tf_idf_1000.fit(train_df['text'])\n",
    "\n",
    "train_data_BOW_tf_idf_1000 = tf_idf_1000.transform(train_df['text'])\n",
    "train_data_BOW_tf_idf_1000.toarray()\n",
    "feature_names_1000 = tf_idf_1000.get_feature_names_out()\n",
    "feature_names_1000[100:110]"
   ]
  },
  {
   "cell_type": "markdown",
   "metadata": {},
   "source": [
    "---\n",
    "### ** >>> Exercise 3 (Take home): **  \n",
    "Can you interpret the results above? What do they mean?"
   ]
  },
  {
   "cell_type": "code",
   "execution_count": 25,
   "metadata": {},
   "outputs": [],
   "source": [
    "import nltk\n",
    "# nltk.download()\n",
    "\n",
    "# build analyzers (bag-of-words)\n",
    "BOW_500 = CountVectorizer(max_features=500, tokenizer=nltk.word_tokenize,token_pattern=None) \n",
    "BOW_1000 = CountVectorizer(max_features=1000, tokenizer=nltk.word_tokenize,token_pattern=None) \n",
    "# apply analyzer to training data\n",
    "BOW_500.fit(train_df['text'])\n",
    "BOW_1000.fit(train_df['text'])\n",
    "train_data_BOW_features_500 = BOW_500.transform(train_df['text'])\n",
    "train_data_BOW_features_1000 = BOW_1000.transform(train_df['text'])"
   ]
  },
  {
   "cell_type": "code",
   "execution_count": 28,
   "metadata": {},
   "outputs": [
    {
     "name": "stdout",
     "output_type": "stream",
     "text": [
      "X_train.shape:  (3613, 500)\n",
      "y_train.shape:  (3613,)\n",
      "X_test.shape:  (347, 500)\n",
      "y_test.shape:  (347,)\n"
     ]
    }
   ],
   "source": [
    "from sklearn.tree import DecisionTreeClassifier\n",
    "\n",
    "# for a classificaiton problem, you need to provide both training & testing data\n",
    "X_train = BOW_500.transform(train_df['text'])\n",
    "y_train = train_df['emotion']\n",
    "\n",
    "X_train_1000 = BOW_1000.transform(train_df['text'])\n",
    "y_train_1000 = train_df['emotion']\n",
    "\n",
    "X_test = BOW_500.transform(test_df['text'])\n",
    "y_test = test_df['emotion']\n",
    "\n",
    "X_test_1000 = BOW_1000.transform(test_df['text'])\n",
    "y_test_1000 = test_df['emotion']\n",
    "\n",
    "## take a look at data dimension is a good habit  :)\n",
    "print('X_train.shape: ', X_train.shape)\n",
    "print('y_train.shape: ', y_train.shape)\n",
    "print('X_test.shape: ', X_test.shape)\n",
    "print('y_test.shape: ', y_test.shape)"
   ]
  },
  {
   "cell_type": "code",
   "execution_count": 29,
   "metadata": {},
   "outputs": [
    {
     "data": {
      "text/plain": [
       "array(['joy', 'anger', 'sadness', 'anger', 'fear', 'anger', 'sadness',\n",
       "       'fear', 'joy', 'sadness'], dtype=object)"
      ]
     },
     "execution_count": 29,
     "metadata": {},
     "output_type": "execute_result"
    }
   ],
   "source": [
    "#  build DecisionTree model\n",
    "DT_model = DecisionTreeClassifier(random_state=1)\n",
    "DT_model_1000 = DecisionTreeClassifier(random_state=1)\n",
    "## training!\n",
    "DT_model = DT_model.fit(X_train, y_train)\n",
    "DT_model_1000 = DT_model_1000.fit(X_train_1000, y_train_1000)\n",
    "## predict!\n",
    "y_train_pred = DT_model.predict(X_train)\n",
    "y_test_pred = DT_model.predict(X_test)\n",
    "\n",
    "y_train_pred_1000 = DT_model_1000.predict(X_train_1000)\n",
    "y_test_pred_1000 = DT_model_1000.predict(X_test_1000)\n",
    "## so we get the pred result\n",
    "y_test_pred[:10]"
   ]
  },
  {
   "cell_type": "code",
   "execution_count": 30,
   "metadata": {},
   "outputs": [
    {
     "name": "stdout",
     "output_type": "stream",
     "text": [
      "training accuracy: 0.99\n",
      "testing accuracy: 0.66\n",
      "training accuracy: 0.99\n",
      "testing accuracy: 0.71\n"
     ]
    }
   ],
   "source": [
    "## accuracy\n",
    "from sklearn.metrics import accuracy_score\n",
    "\n",
    "acc_train = accuracy_score(y_true=y_train, y_pred=y_train_pred)\n",
    "acc_test = accuracy_score(y_true=y_test, y_pred=y_test_pred)\n",
    "\n",
    "print('training accuracy: {}'.format(round(acc_train, 2)))\n",
    "print('testing accuracy: {}'.format(round(acc_test, 2)))\n",
    "\n",
    "acc_train_1000 = accuracy_score(y_true=y_train_1000, y_pred=y_train_pred_1000)\n",
    "acc_test_1000 = accuracy_score(y_true=y_test_1000, y_pred=y_test_pred_1000)\n",
    "\n",
    "print('training accuracy: {}'.format(round(acc_train_1000, 2)))\n",
    "print('testing accuracy: {}'.format(round(acc_test_1000, 2)))"
   ]
  },
  {
   "cell_type": "code",
   "execution_count": 32,
   "metadata": {},
   "outputs": [
    {
     "name": "stdout",
     "output_type": "stream",
     "text": [
      "[[54 18  9  3]\n",
      " [10 76  9 15]\n",
      " [ 5 11 55  8]\n",
      " [12 11  7 44]]\n"
     ]
    }
   ],
   "source": [
    "## check by confusion matrix\n",
    "from sklearn.metrics import confusion_matrix\n",
    "\n",
    "cm = confusion_matrix(y_true=y_test, y_pred=y_test_pred) \n",
    "cm_1000 = confusion_matrix(y_true=y_test_1000, y_pred=y_test_pred_1000) \n",
    "print(cm)"
   ]
  },
  {
   "cell_type": "code",
   "execution_count": 33,
   "metadata": {},
   "outputs": [],
   "source": [
    "# Funciton for visualizing confusion_matrix\n",
    "import matplotlib.pyplot as plt\n",
    "import seaborn as sns\n",
    "import numpy as np\n",
    "import itertools\n",
    "\n",
    "def plot_confusion_matrix(cm, classes, title='Confusion matrix',\n",
    "                          cmap=sns.cubehelix_palette(as_cmap=True)):\n",
    "    \"\"\"\n",
    "    This function is modified from: \n",
    "    http://scikit-learn.org/stable/auto_examples/model_selection/plot_confusion_matrix.html\n",
    "    \"\"\"\n",
    "    classes.sort()\n",
    "    tick_marks = np.arange(len(classes))    \n",
    "    \n",
    "    fig, ax = plt.subplots(figsize=(5,5))\n",
    "    im = ax.imshow(cm, interpolation='nearest', cmap=cmap)\n",
    "    ax.figure.colorbar(im, ax=ax)\n",
    "    ax.set(xticks=np.arange(cm.shape[1]),\n",
    "           yticks=np.arange(cm.shape[0]),\n",
    "           xticklabels = classes,\n",
    "           yticklabels = classes,\n",
    "           title = title,\n",
    "           xlabel = 'True label',\n",
    "           ylabel = 'Predicted label')\n",
    "\n",
    "    fmt = 'd'\n",
    "    thresh = cm.max() / 2.\n",
    "    for i, j in itertools.product(range(cm.shape[0]), range(cm.shape[1])):\n",
    "        plt.text(j, i, format(cm[i, j], fmt), horizontalalignment=\"center\", color=\"white\" if cm[i, j] > thresh else \"black\")\n",
    "    ylim_top = len(classes) - 0.5\n",
    "    plt.ylim([ylim_top, -.5])\n",
    "    plt.tight_layout()\n",
    "    plt.show()"
   ]
  },
  {
   "cell_type": "code",
   "execution_count": 34,
   "metadata": {},
   "outputs": [
    {
     "data": {
      "image/png": "[encoded data removed]",
      "text/plain": [
       "<Figure size 500x500 with 2 Axes>"
      ]
     },
     "metadata": {},
     "output_type": "display_data"
    }
   ],
   "source": [
    "# plot your confusion matrix\n",
    "my_tags = ['anger', 'fear', 'joy', 'sadness']\n",
    "plot_confusion_matrix(cm, classes=my_tags, title='Confusion matrix')"
   ]
  },
  {
   "cell_type": "code",
   "execution_count": 35,
   "metadata": {},
   "outputs": [
    {
     "data": {
      "image/png": "[encoded data removed]",
      "text/plain": [
       "<Figure size 500x500 with 2 Axes>"
      ]
     },
     "metadata": {},
     "output_type": "display_data"
    }
   ],
   "source": [
    "plot_confusion_matrix(cm_1000, classes=my_tags, title='Confusion matrix')"
   ]
  },
  {
   "cell_type": "markdown",
   "metadata": {},
   "source": [
    " Can you interpret the results above? What do they mean?"
   ]
  },
  {
   "cell_type": "markdown",
   "metadata": {},
   "source": [
    "#### Answer here\n",
    "The elements on the diagonal of the confusion matrix are True Positive. If the value is bigger, the result of this model is better.\n",
    "\n",
    "From above two CountVectorizer with different numbers of featuers, we can find more features one get better result.\n",
    "\n",
    "If the value of False Positive is higher(left-down of matrix), they might have more common features.\n",
    "\n",
    "When I increased the number of features to 1000, I found that the training accuracy remained high, but the testing accuracy improved. This could be due to the overfitting in decision tree with BOW500."
   ]
  },
  {
   "cell_type": "markdown",
   "metadata": {},
   "source": [
    "---\n",
    "### ** >>> Exercise 4 (Take home): **  \n",
    "Build a model using a ```Naive Bayes``` model and train it. What are the testing results? \n",
    "\n",
    "*Reference*: https://scikit-learn.org/stable/modules/generated/sklearn.naive_bayes.MultinomialNB.html"
   ]
  },
  {
   "cell_type": "code",
   "execution_count": 55,
   "metadata": {},
   "outputs": [],
   "source": [
    "from sklearn.naive_bayes import MultinomialNB\n",
    "\n",
    "MB_model = MultinomialNB(alpha=0.8, fit_prior=True, force_alpha=True)\n",
    "\n",
    "## training!\n",
    "MB_model = MB_model.fit(X_train, y_train)\n",
    "\n",
    "## predict!\n",
    "y_train_pred = MB_model.predict(X_train)\n",
    "y_test_pred = MB_model.predict(X_test)"
   ]
  },
  {
   "cell_type": "code",
   "execution_count": 56,
   "metadata": {},
   "outputs": [
    {
     "name": "stdout",
     "output_type": "stream",
     "text": [
      "training accuracy: 0.79\n",
      "testing accuracy: 0.7\n"
     ]
    }
   ],
   "source": [
    "acc_train = accuracy_score(y_true=y_train, y_pred=y_train_pred)\n",
    "acc_test = accuracy_score(y_true=y_test, y_pred=y_test_pred)\n",
    "\n",
    "print('training accuracy: {}'.format(round(acc_train, 2)))\n",
    "print('testing accuracy: {}'.format(round(acc_test, 2)))"
   ]
  },
  {
   "cell_type": "code",
   "execution_count": 57,
   "metadata": {},
   "outputs": [
    {
     "name": "stdout",
     "output_type": "stream",
     "text": [
      "[[56 14  5  9]\n",
      " [ 9 85  5 11]\n",
      " [ 9  8 56  6]\n",
      " [12 10  6 46]]\n"
     ]
    }
   ],
   "source": [
    "cm = confusion_matrix(y_true=y_test, y_pred=y_test_pred) \n",
    "print(cm)"
   ]
  },
  {
   "cell_type": "code",
   "execution_count": 58,
   "metadata": {},
   "outputs": [
    {
     "data": {
      "image/png": "[encoded data removed]",
      "text/plain": [
       "<Figure size 500x500 with 2 Axes>"
      ]
     },
     "metadata": {},
     "output_type": "display_data"
    }
   ],
   "source": [
    "# plot your confusion matrix\n",
    "my_tags = ['anger', 'fear', 'joy', 'sadness']\n",
    "plot_confusion_matrix(cm, classes=my_tags, title='Confusion matrix')"
   ]
  },
  {
   "cell_type": "markdown",
   "metadata": {},
   "source": [
    "---\n",
    "### ** >>> Exercise 5 (Take home): **  \n",
    "\n",
    "How do the results from the Naive Bayes model and the Decision Tree model compare? How do you interpret these differences? Use the theoretical background covered in class to try and explain these differences."
   ]
  },
  {
   "cell_type": "markdown",
   "metadata": {},
   "source": [
    "#### Answer here\n",
    "Decision tree gets higher training accuracy than Navie Bayes but Navie Bayes gets higher testing accuracy than decision tree.\n",
    "\n",
    "Naive bayes is a simple method for building classifiers and therefor it too simple to classiffy complex situations. Its training and testing accuracy are not high.\n",
    "\n",
    "We can observe that the training accuracy of the decision tree is as high as 0.99, but the testing accuracy is only 0.66 that is lower than Navie Bayes. Furthermore, when I increased the features of the decision tree, the testing accuracy improved. Decision tree with BOW500 may be have a overfitting problem.\n",
    "\n",
    "For testing dataset, because decision tree uses work by repeatedly splitting the data to lead to the option, if the test data didn't show in the train dataset, the acuuracy will become lower."
   ]
  },
  {
   "cell_type": "markdown",
   "metadata": {},
   "source": [
    "---\n",
    "### ** >>> Exercise 6 (Take home): **  \n",
    "\n",
    "Plot the Training and Validation Accuracy and Loss (different plots), just like the images below.(Note: the pictures below are an example from a different model). How to interpret the graphs you got? How are they related to the concept of overfitting/underfitting covered in class?\n",
    "<table><tr>\n",
    "    <td><img src=\"../pics/pic3.png\" style=\"width: 300px;\"/> </td>\n",
    "    <td><img src=\"../pics/pic4.png\" style=\"width: 300px;\"/> </td>\n",
    "</tr></table>"
   ]
  },
  {
   "cell_type": "code",
   "execution_count": 59,
   "metadata": {},
   "outputs": [
    {
     "name": "stdout",
     "output_type": "stream",
     "text": [
      "X_train.shape:  (3613, 500)\n",
      "y_train.shape:  (3613,)\n",
      "X_test.shape:  (347, 500)\n",
      "y_test.shape:  (347,)\n"
     ]
    }
   ],
   "source": [
    "import keras\n",
    "\n",
    "# standardize name (X, y) \n",
    "X_train = BOW_500.transform(train_df['text'])\n",
    "y_train = train_df['emotion']\n",
    "\n",
    "X_test = BOW_500.transform(test_df['text'])\n",
    "y_test = test_df['emotion']\n",
    "\n",
    "## check dimension is a good habbit \n",
    "print('X_train.shape: ', X_train.shape)\n",
    "print('y_train.shape: ', y_train.shape)\n",
    "print('X_test.shape: ', X_test.shape)\n",
    "print('y_test.shape: ', y_test.shape)"
   ]
  },
  {
   "cell_type": "code",
   "execution_count": 60,
   "metadata": {},
   "outputs": [
    {
     "name": "stdout",
     "output_type": "stream",
     "text": [
      "check label:  ['anger' 'fear' 'joy' 'sadness']\n",
      "\n",
      "## Before convert\n",
      "y_train[0:4]:\n",
      " 2377      joy\n",
      "1976     fear\n",
      "100     anger\n",
      "2537      joy\n",
      "Name: emotion, dtype: object\n",
      "\n",
      "y_train.shape:  (3613,)\n",
      "y_test.shape:  (347,)\n",
      "\n",
      "\n",
      "## After convert\n",
      "y_train[0:4]:\n",
      " [[0. 0. 1. 0.]\n",
      " [0. 1. 0. 0.]\n",
      " [1. 0. 0. 0.]\n",
      " [0. 0. 1. 0.]]\n",
      "\n",
      "y_train.shape:  (3613, 4)\n",
      "y_test.shape:  (347, 4)\n"
     ]
    }
   ],
   "source": [
    "## deal with label (string -> one-hot)\n",
    "\n",
    "from sklearn.preprocessing import LabelEncoder\n",
    "\n",
    "label_encoder = LabelEncoder()\n",
    "label_encoder.fit(y_train)\n",
    "print('check label: ', label_encoder.classes_)\n",
    "print('\\n## Before convert')\n",
    "print('y_train[0:4]:\\n', y_train[0:4])\n",
    "print('\\ny_train.shape: ', y_train.shape)\n",
    "print('y_test.shape: ', y_test.shape)\n",
    "\n",
    "def label_encode(le, labels):\n",
    "    enc = le.transform(labels)\n",
    "    return keras.utils.np_utils.to_categorical(enc)\n",
    "\n",
    "def label_decode(le, one_hot_label):\n",
    "    dec = np.argmax(one_hot_label, axis=1)\n",
    "    return le.inverse_transform(dec)\n",
    "\n",
    "y_train = label_encode(label_encoder, y_train)\n",
    "y_test = label_encode(label_encoder, y_test)\n",
    "\n",
    "print('\\n\\n## After convert')\n",
    "print('y_train[0:4]:\\n', y_train[0:4])\n",
    "print('\\ny_train.shape: ', y_train.shape)\n",
    "print('y_test.shape: ', y_test.shape)\n"
   ]
  },
  {
   "cell_type": "code",
   "execution_count": 61,
   "metadata": {},
   "outputs": [
    {
     "name": "stdout",
     "output_type": "stream",
     "text": [
      "input_shape:  500\n",
      "output_shape:  4\n"
     ]
    }
   ],
   "source": [
    "# I/O check\n",
    "input_shape = X_train.shape[1]\n",
    "print('input_shape: ', input_shape)\n",
    "\n",
    "output_shape = len(label_encoder.classes_)\n",
    "print('output_shape: ', output_shape)"
   ]
  },
  {
   "cell_type": "code",
   "execution_count": 62,
   "metadata": {},
   "outputs": [
    {
     "name": "stdout",
     "output_type": "stream",
     "text": [
      "Model: \"model_1\"\n",
      "_________________________________________________________________\n",
      "Layer (type)                 Output Shape              Param #   \n",
      "=================================================================\n",
      "input_2 (InputLayer)         [(None, 500)]             0         \n",
      "_________________________________________________________________\n",
      "dense_3 (Dense)              (None, 64)                32064     \n",
      "_________________________________________________________________\n",
      "re_lu_2 (ReLU)               (None, 64)                0         \n",
      "_________________________________________________________________\n",
      "dense_4 (Dense)              (None, 64)                4160      \n",
      "_________________________________________________________________\n",
      "re_lu_3 (ReLU)               (None, 64)                0         \n",
      "_________________________________________________________________\n",
      "dense_5 (Dense)              (None, 4)                 260       \n",
      "_________________________________________________________________\n",
      "softmax_1 (Softmax)          (None, 4)                 0         \n",
      "=================================================================\n",
      "Total params: 36,484\n",
      "Trainable params: 36,484\n",
      "Non-trainable params: 0\n",
      "_________________________________________________________________\n"
     ]
    }
   ],
   "source": [
    "from keras.models import Model\n",
    "from keras.layers import Input, Dense\n",
    "from keras.layers import ReLU, Softmax\n",
    "\n",
    "# input layer\n",
    "model_input = Input(shape=(input_shape, ))  # 500\n",
    "X = model_input\n",
    "\n",
    "# 1st hidden layer\n",
    "X_W1 = Dense(units=64)(X)  # 64\n",
    "H1 = ReLU()(X_W1)\n",
    "\n",
    "# 2nd hidden layer\n",
    "H1_W2 = Dense(units=64)(H1)  # 64\n",
    "H2 = ReLU()(H1_W2)\n",
    "\n",
    "# output layer\n",
    "H2_W3 = Dense(units=output_shape)(H2)  # 4\n",
    "H3 = Softmax()(H2_W3)\n",
    "\n",
    "model_output = H3\n",
    "\n",
    "# create model\n",
    "model = Model(inputs=[model_input], outputs=[model_output])\n",
    "\n",
    "# loss function & optimizer\n",
    "model.compile(optimizer='adam',\n",
    "              loss='categorical_crossentropy',\n",
    "              metrics=['accuracy'])\n",
    "\n",
    "# show model construction\n",
    "model.summary()"
   ]
  },
  {
   "cell_type": "code",
   "execution_count": 63,
   "metadata": {},
   "outputs": [
    {
     "name": "stdout",
     "output_type": "stream",
     "text": [
      "Epoch 1/25\n",
      "113/113 [==============================] - 2s 9ms/step - loss: 1.3349 - accuracy: 0.3620 - val_loss: 1.2715 - val_accuracy: 0.4669\n",
      "Epoch 2/25\n",
      "113/113 [==============================] - 1s 6ms/step - loss: 1.0129 - accuracy: 0.6261 - val_loss: 0.9324 - val_accuracy: 0.6455\n",
      "Epoch 3/25\n",
      "113/113 [==============================] - 1s 6ms/step - loss: 0.5961 - accuracy: 0.7899 - val_loss: 0.8042 - val_accuracy: 0.6945\n",
      "Epoch 4/25\n",
      "113/113 [==============================] - 1s 6ms/step - loss: 0.4134 - accuracy: 0.8450 - val_loss: 0.8160 - val_accuracy: 0.6801\n",
      "Epoch 5/25\n",
      "113/113 [==============================] - 1s 6ms/step - loss: 0.3186 - accuracy: 0.8898 - val_loss: 0.8227 - val_accuracy: 0.6916\n",
      "Epoch 6/25\n",
      "113/113 [==============================] - 1s 6ms/step - loss: 0.2590 - accuracy: 0.9106 - val_loss: 0.8856 - val_accuracy: 0.6744\n",
      "Epoch 7/25\n",
      "113/113 [==============================] - 1s 6ms/step - loss: 0.2061 - accuracy: 0.9338 - val_loss: 0.9553 - val_accuracy: 0.6657\n",
      "Epoch 8/25\n",
      "113/113 [==============================] - 1s 5ms/step - loss: 0.1749 - accuracy: 0.9466 - val_loss: 0.9980 - val_accuracy: 0.6801\n",
      "Epoch 9/25\n",
      "113/113 [==============================] - 1s 6ms/step - loss: 0.1450 - accuracy: 0.9579 - val_loss: 1.0674 - val_accuracy: 0.6686\n",
      "Epoch 10/25\n",
      "113/113 [==============================] - 1s 6ms/step - loss: 0.1373 - accuracy: 0.9588 - val_loss: 1.1374 - val_accuracy: 0.6657\n",
      "Epoch 11/25\n",
      "113/113 [==============================] - 1s 6ms/step - loss: 0.1152 - accuracy: 0.9648 - val_loss: 1.1601 - val_accuracy: 0.6599\n",
      "Epoch 12/25\n",
      "113/113 [==============================] - 1s 5ms/step - loss: 0.1011 - accuracy: 0.9701 - val_loss: 1.2716 - val_accuracy: 0.6686\n",
      "Epoch 13/25\n",
      "113/113 [==============================] - 1s 6ms/step - loss: 0.1026 - accuracy: 0.9676 - val_loss: 1.3228 - val_accuracy: 0.6513\n",
      "Epoch 14/25\n",
      "113/113 [==============================] - 1s 5ms/step - loss: 0.0903 - accuracy: 0.9723 - val_loss: 1.4151 - val_accuracy: 0.6571\n",
      "Epoch 15/25\n",
      "113/113 [==============================] - 1s 6ms/step - loss: 0.0930 - accuracy: 0.9718 - val_loss: 1.3982 - val_accuracy: 0.6571\n",
      "Epoch 16/25\n",
      "113/113 [==============================] - 1s 6ms/step - loss: 0.0896 - accuracy: 0.9737 - val_loss: 1.4175 - val_accuracy: 0.6542\n",
      "Epoch 17/25\n",
      "113/113 [==============================] - 1s 5ms/step - loss: 0.0872 - accuracy: 0.9732 - val_loss: 1.4293 - val_accuracy: 0.6571\n",
      "Epoch 18/25\n",
      "113/113 [==============================] - 1s 6ms/step - loss: 0.0744 - accuracy: 0.9743 - val_loss: 1.5357 - val_accuracy: 0.6455\n",
      "Epoch 19/25\n",
      "113/113 [==============================] - 1s 6ms/step - loss: 0.0808 - accuracy: 0.9734 - val_loss: 1.5003 - val_accuracy: 0.6513\n",
      "Epoch 20/25\n",
      "113/113 [==============================] - 1s 6ms/step - loss: 0.0742 - accuracy: 0.9756 - val_loss: 1.5520 - val_accuracy: 0.6398\n",
      "Epoch 21/25\n",
      "113/113 [==============================] - 1s 6ms/step - loss: 0.0729 - accuracy: 0.9748 - val_loss: 1.5603 - val_accuracy: 0.6542\n",
      "Epoch 22/25\n",
      "113/113 [==============================] - 1s 5ms/step - loss: 0.0670 - accuracy: 0.9768 - val_loss: 1.6341 - val_accuracy: 0.6599\n",
      "Epoch 23/25\n",
      "113/113 [==============================] - 1s 5ms/step - loss: 0.0699 - accuracy: 0.9770 - val_loss: 1.6113 - val_accuracy: 0.6484\n",
      "Epoch 24/25\n",
      "113/113 [==============================] - 1s 6ms/step - loss: 0.0652 - accuracy: 0.9765 - val_loss: 1.6201 - val_accuracy: 0.6340\n",
      "Epoch 25/25\n",
      "113/113 [==============================] - 1s 6ms/step - loss: 0.0707 - accuracy: 0.9754 - val_loss: 1.5870 - val_accuracy: 0.6571\n",
      "training finish\n"
     ]
    }
   ],
   "source": [
    "from keras.callbacks import CSVLogger\n",
    "\n",
    "csv_logger = CSVLogger('../logs/training_2.csv')\n",
    "\n",
    "# training setting\n",
    "epochs = 25\n",
    "batch_size = 32\n",
    "\n",
    "# training!\n",
    "history = model.fit(X_train, y_train, \n",
    "                    epochs=epochs, \n",
    "                    batch_size=batch_size, \n",
    "                    callbacks=[csv_logger],\n",
    "                    validation_data = (X_test, y_test))\n",
    "print('training finish')"
   ]
  },
  {
   "cell_type": "code",
   "execution_count": 64,
   "metadata": {},
   "outputs": [
    {
     "data": {
      "text/plain": [
       "array(['anger', 'anger', 'joy', 'fear', 'anger'], dtype=object)"
      ]
     },
     "execution_count": 64,
     "metadata": {},
     "output_type": "execute_result"
    }
   ],
   "source": [
    "## predict\n",
    "pred_result = model.predict(X_test, batch_size=128)\n",
    "pred_result[:5]\n",
    "\n",
    "pred_result = label_decode(label_encoder, pred_result)\n",
    "pred_result[:5]"
   ]
  },
  {
   "cell_type": "code",
   "execution_count": 65,
   "metadata": {},
   "outputs": [
    {
     "name": "stdout",
     "output_type": "stream",
     "text": [
      "testing accuracy: 0.66\n"
     ]
    }
   ],
   "source": [
    "from sklearn.metrics import accuracy_score\n",
    "\n",
    "print('testing accuracy: {}'.format(round(accuracy_score(label_decode(label_encoder, y_test), pred_result), 2)))"
   ]
  },
  {
   "cell_type": "code",
   "execution_count": 66,
   "metadata": {},
   "outputs": [
    {
     "data": {
      "text/html": [
       "<div>\n",
       "<style scoped>\n",
       "    .dataframe tbody tr th:only-of-type {\n",
       "        vertical-align: middle;\n",
       "    }\n",
       "\n",
       "    .dataframe tbody tr th {\n",
       "        vertical-align: top;\n",
       "    }\n",
       "\n",
       "    .dataframe thead th {\n",
       "        text-align: right;\n",
       "    }\n",
       "</style>\n",
       "<table border=\"1\" class=\"dataframe\">\n",
       "  <thead>\n",
       "    <tr style=\"text-align: right;\">\n",
       "      <th></th>\n",
       "      <th>epoch</th>\n",
       "      <th>accuracy</th>\n",
       "      <th>loss</th>\n",
       "      <th>val_accuracy</th>\n",
       "      <th>val_loss</th>\n",
       "    </tr>\n",
       "  </thead>\n",
       "  <tbody>\n",
       "    <tr>\n",
       "      <th>0</th>\n",
       "      <td>0</td>\n",
       "      <td>0.362026</td>\n",
       "      <td>1.334859</td>\n",
       "      <td>0.466859</td>\n",
       "      <td>1.271482</td>\n",
       "    </tr>\n",
       "    <tr>\n",
       "      <th>1</th>\n",
       "      <td>1</td>\n",
       "      <td>0.626073</td>\n",
       "      <td>1.012866</td>\n",
       "      <td>0.645533</td>\n",
       "      <td>0.932418</td>\n",
       "    </tr>\n",
       "    <tr>\n",
       "      <th>2</th>\n",
       "      <td>2</td>\n",
       "      <td>0.789925</td>\n",
       "      <td>0.596095</td>\n",
       "      <td>0.694524</td>\n",
       "      <td>0.804168</td>\n",
       "    </tr>\n",
       "    <tr>\n",
       "      <th>3</th>\n",
       "      <td>3</td>\n",
       "      <td>0.845004</td>\n",
       "      <td>0.413428</td>\n",
       "      <td>0.680115</td>\n",
       "      <td>0.816039</td>\n",
       "    </tr>\n",
       "    <tr>\n",
       "      <th>4</th>\n",
       "      <td>4</td>\n",
       "      <td>0.889842</td>\n",
       "      <td>0.318597</td>\n",
       "      <td>0.691643</td>\n",
       "      <td>0.822718</td>\n",
       "    </tr>\n",
       "    <tr>\n",
       "      <th>5</th>\n",
       "      <td>5</td>\n",
       "      <td>0.910601</td>\n",
       "      <td>0.259024</td>\n",
       "      <td>0.674352</td>\n",
       "      <td>0.885604</td>\n",
       "    </tr>\n",
       "    <tr>\n",
       "      <th>6</th>\n",
       "      <td>6</td>\n",
       "      <td>0.933850</td>\n",
       "      <td>0.206097</td>\n",
       "      <td>0.665706</td>\n",
       "      <td>0.955265</td>\n",
       "    </tr>\n",
       "    <tr>\n",
       "      <th>7</th>\n",
       "      <td>7</td>\n",
       "      <td>0.946582</td>\n",
       "      <td>0.174911</td>\n",
       "      <td>0.680115</td>\n",
       "      <td>0.998031</td>\n",
       "    </tr>\n",
       "    <tr>\n",
       "      <th>8</th>\n",
       "      <td>8</td>\n",
       "      <td>0.957930</td>\n",
       "      <td>0.145044</td>\n",
       "      <td>0.668588</td>\n",
       "      <td>1.067423</td>\n",
       "    </tr>\n",
       "    <tr>\n",
       "      <th>9</th>\n",
       "      <td>9</td>\n",
       "      <td>0.958760</td>\n",
       "      <td>0.137259</td>\n",
       "      <td>0.665706</td>\n",
       "      <td>1.137438</td>\n",
       "    </tr>\n",
       "    <tr>\n",
       "      <th>10</th>\n",
       "      <td>10</td>\n",
       "      <td>0.964849</td>\n",
       "      <td>0.115165</td>\n",
       "      <td>0.659942</td>\n",
       "      <td>1.160078</td>\n",
       "    </tr>\n",
       "    <tr>\n",
       "      <th>11</th>\n",
       "      <td>11</td>\n",
       "      <td>0.970108</td>\n",
       "      <td>0.101071</td>\n",
       "      <td>0.668588</td>\n",
       "      <td>1.271628</td>\n",
       "    </tr>\n",
       "    <tr>\n",
       "      <th>12</th>\n",
       "      <td>12</td>\n",
       "      <td>0.967617</td>\n",
       "      <td>0.102606</td>\n",
       "      <td>0.651297</td>\n",
       "      <td>1.322793</td>\n",
       "    </tr>\n",
       "    <tr>\n",
       "      <th>13</th>\n",
       "      <td>13</td>\n",
       "      <td>0.972322</td>\n",
       "      <td>0.090296</td>\n",
       "      <td>0.657061</td>\n",
       "      <td>1.415057</td>\n",
       "    </tr>\n",
       "    <tr>\n",
       "      <th>14</th>\n",
       "      <td>14</td>\n",
       "      <td>0.971769</td>\n",
       "      <td>0.092954</td>\n",
       "      <td>0.657061</td>\n",
       "      <td>1.398207</td>\n",
       "    </tr>\n",
       "    <tr>\n",
       "      <th>15</th>\n",
       "      <td>15</td>\n",
       "      <td>0.973706</td>\n",
       "      <td>0.089560</td>\n",
       "      <td>0.654179</td>\n",
       "      <td>1.417457</td>\n",
       "    </tr>\n",
       "    <tr>\n",
       "      <th>16</th>\n",
       "      <td>16</td>\n",
       "      <td>0.973153</td>\n",
       "      <td>0.087172</td>\n",
       "      <td>0.657061</td>\n",
       "      <td>1.429290</td>\n",
       "    </tr>\n",
       "    <tr>\n",
       "      <th>17</th>\n",
       "      <td>17</td>\n",
       "      <td>0.974260</td>\n",
       "      <td>0.074362</td>\n",
       "      <td>0.645533</td>\n",
       "      <td>1.535703</td>\n",
       "    </tr>\n",
       "    <tr>\n",
       "      <th>18</th>\n",
       "      <td>18</td>\n",
       "      <td>0.973429</td>\n",
       "      <td>0.080836</td>\n",
       "      <td>0.651297</td>\n",
       "      <td>1.500311</td>\n",
       "    </tr>\n",
       "    <tr>\n",
       "      <th>19</th>\n",
       "      <td>19</td>\n",
       "      <td>0.975644</td>\n",
       "      <td>0.074161</td>\n",
       "      <td>0.639769</td>\n",
       "      <td>1.551976</td>\n",
       "    </tr>\n",
       "    <tr>\n",
       "      <th>20</th>\n",
       "      <td>20</td>\n",
       "      <td>0.974813</td>\n",
       "      <td>0.072923</td>\n",
       "      <td>0.654179</td>\n",
       "      <td>1.560323</td>\n",
       "    </tr>\n",
       "    <tr>\n",
       "      <th>21</th>\n",
       "      <td>21</td>\n",
       "      <td>0.976751</td>\n",
       "      <td>0.066992</td>\n",
       "      <td>0.659942</td>\n",
       "      <td>1.634125</td>\n",
       "    </tr>\n",
       "    <tr>\n",
       "      <th>22</th>\n",
       "      <td>22</td>\n",
       "      <td>0.977027</td>\n",
       "      <td>0.069860</td>\n",
       "      <td>0.648415</td>\n",
       "      <td>1.611286</td>\n",
       "    </tr>\n",
       "    <tr>\n",
       "      <th>23</th>\n",
       "      <td>23</td>\n",
       "      <td>0.976474</td>\n",
       "      <td>0.065240</td>\n",
       "      <td>0.634006</td>\n",
       "      <td>1.620126</td>\n",
       "    </tr>\n",
       "    <tr>\n",
       "      <th>24</th>\n",
       "      <td>24</td>\n",
       "      <td>0.975367</td>\n",
       "      <td>0.070742</td>\n",
       "      <td>0.657061</td>\n",
       "      <td>1.586999</td>\n",
       "    </tr>\n",
       "  </tbody>\n",
       "</table>\n",
       "</div>"
      ],
      "text/plain": [
       "    epoch  accuracy      loss  val_accuracy  val_loss\n",
       "0       0  0.362026  1.334859      0.466859  1.271482\n",
       "1       1  0.626073  1.012866      0.645533  0.932418\n",
       "2       2  0.789925  0.596095      0.694524  0.804168\n",
       "3       3  0.845004  0.413428      0.680115  0.816039\n",
       "4       4  0.889842  0.318597      0.691643  0.822718\n",
       "5       5  0.910601  0.259024      0.674352  0.885604\n",
       "6       6  0.933850  0.206097      0.665706  0.955265\n",
       "7       7  0.946582  0.174911      0.680115  0.998031\n",
       "8       8  0.957930  0.145044      0.668588  1.067423\n",
       "9       9  0.958760  0.137259      0.665706  1.137438\n",
       "10     10  0.964849  0.115165      0.659942  1.160078\n",
       "11     11  0.970108  0.101071      0.668588  1.271628\n",
       "12     12  0.967617  0.102606      0.651297  1.322793\n",
       "13     13  0.972322  0.090296      0.657061  1.415057\n",
       "14     14  0.971769  0.092954      0.657061  1.398207\n",
       "15     15  0.973706  0.089560      0.654179  1.417457\n",
       "16     16  0.973153  0.087172      0.657061  1.429290\n",
       "17     17  0.974260  0.074362      0.645533  1.535703\n",
       "18     18  0.973429  0.080836      0.651297  1.500311\n",
       "19     19  0.975644  0.074161      0.639769  1.551976\n",
       "20     20  0.974813  0.072923      0.654179  1.560323\n",
       "21     21  0.976751  0.066992      0.659942  1.634125\n",
       "22     22  0.977027  0.069860      0.648415  1.611286\n",
       "23     23  0.976474  0.065240      0.634006  1.620126\n",
       "24     24  0.975367  0.070742      0.657061  1.586999"
      ]
     },
     "execution_count": 66,
     "metadata": {},
     "output_type": "execute_result"
    }
   ],
   "source": [
    "training_log = pd.DataFrame()\n",
    "training_log = pd.read_csv(\"../logs/training_2.csv\")\n",
    "training_log"
   ]
  },
  {
   "cell_type": "code",
   "execution_count": 67,
   "metadata": {},
   "outputs": [
    {
     "data": {
      "image/png": "[encoded data removed]",
      "text/plain": [
       "<Figure size 1200x450 with 2 Axes>"
      ]
     },
     "metadata": {},
     "output_type": "display_data"
    }
   ],
   "source": [
    "import matplotlib.pyplot as plt\n",
    "\n",
    "fig,  (ax1,ax2) = plt.subplots(1,2,sharex=True, sharey=True,figsize=(12,4.5))\n",
    "ax1.plot(training_log['epoch'],training_log['accuracy'],color='b')\n",
    "ax1.plot(training_log['epoch'],training_log['val_accuracy'],color='r')\n",
    "ax1.legend(['Train accuracy','Val accuracy'])\n",
    "\n",
    "ax2.plot(training_log['epoch'],training_log['loss'],color='b')\n",
    "ax2.plot(training_log['epoch'],training_log['val_loss'],color='r')\n",
    "ax2.legend(['Train loss','Val loss'])\n",
    "\n",
    "\n",
    "fig.show()"
   ]
  },
  {
   "cell_type": "markdown",
   "metadata": {},
   "source": [
    "How to interpret the graphs you got? \n",
    "\n",
    "From the two graphs above, we can find that the training accuracy is about 0.9, which is higher than the validation accuracy about 0.6. This model fit validation dataset well due to overfitting.\n",
    "\n",
    "How are they related to the concept of overfitting/underfitting covered in class?\n",
    "\n",
    "At epoch 4, when the validation loss starts to increase, the training liss continues to decrease, it indicates overfitting.\n",
    "\n",
    "To reduce the overfitting, we can reduce the numer of layers in the model or increase the dropout."
   ]
  },
  {
   "cell_type": "markdown",
   "metadata": {},
   "source": [
    "---\n",
    "### ** >>> Exercise 7 (Take home): **  \n",
    "\n",
    "Now, we have the word vectors, but our input data is a sequence of words (or say sentence). \n",
    "How can we utilize these \"word\" vectors to represent the sentence data and train our model?\n"
   ]
  },
  {
   "cell_type": "code",
   "execution_count": 68,
   "metadata": {},
   "outputs": [
    {
     "data": {
      "text/html": [
       "<div>\n",
       "<style scoped>\n",
       "    .dataframe tbody tr th:only-of-type {\n",
       "        vertical-align: middle;\n",
       "    }\n",
       "\n",
       "    .dataframe tbody tr th {\n",
       "        vertical-align: top;\n",
       "    }\n",
       "\n",
       "    .dataframe thead th {\n",
       "        text-align: right;\n",
       "    }\n",
       "</style>\n",
       "<table border=\"1\" class=\"dataframe\">\n",
       "  <thead>\n",
       "    <tr style=\"text-align: right;\">\n",
       "      <th></th>\n",
       "      <th>id</th>\n",
       "      <th>text</th>\n",
       "      <th>text_tokenized</th>\n",
       "    </tr>\n",
       "  </thead>\n",
       "  <tbody>\n",
       "    <tr>\n",
       "      <th>2377</th>\n",
       "      <td>30373</td>\n",
       "      <td>Watch this amazing live.ly broadcast by @hunte...</td>\n",
       "      <td>[Watch, this, amazing, live.ly, broadcast, by,...</td>\n",
       "    </tr>\n",
       "    <tr>\n",
       "      <th>1976</th>\n",
       "      <td>21119</td>\n",
       "      <td>I can be so shy but once I come out of my shel...</td>\n",
       "      <td>[I, can, be, so, shy, but, once, I, come, out,...</td>\n",
       "    </tr>\n",
       "    <tr>\n",
       "      <th>100</th>\n",
       "      <td>10100</td>\n",
       "      <td>Have wee pop socks on and they KEEP FALLING OF...</td>\n",
       "      <td>[Have, wee, pop, socks, on, and, they, KEEP, F...</td>\n",
       "    </tr>\n",
       "    <tr>\n",
       "      <th>2537</th>\n",
       "      <td>30533</td>\n",
       "      <td>Watch this amazing live.ly broadcast by @matt....</td>\n",
       "      <td>[Watch, this, amazing, live.ly, broadcast, by,...</td>\n",
       "    </tr>\n",
       "    <tr>\n",
       "      <th>872</th>\n",
       "      <td>20015</td>\n",
       "      <td>I am beyond mad that I lost track of a brown s...</td>\n",
       "      <td>[I, am, beyond, mad, that, I, lost, track, of,...</td>\n",
       "    </tr>\n",
       "  </tbody>\n",
       "</table>\n",
       "</div>"
      ],
      "text/plain": [
       "         id                                               text  \\\n",
       "2377  30373  Watch this amazing live.ly broadcast by @hunte...   \n",
       "1976  21119  I can be so shy but once I come out of my shel...   \n",
       "100   10100  Have wee pop socks on and they KEEP FALLING OF...   \n",
       "2537  30533  Watch this amazing live.ly broadcast by @matt....   \n",
       "872   20015  I am beyond mad that I lost track of a brown s...   \n",
       "\n",
       "                                         text_tokenized  \n",
       "2377  [Watch, this, amazing, live.ly, broadcast, by,...  \n",
       "1976  [I, can, be, so, shy, but, once, I, come, out,...  \n",
       "100   [Have, wee, pop, socks, on, and, they, KEEP, F...  \n",
       "2537  [Watch, this, amazing, live.ly, broadcast, by,...  \n",
       "872   [I, am, beyond, mad, that, I, lost, track, of,...  "
      ]
     },
     "execution_count": 68,
     "metadata": {},
     "output_type": "execute_result"
    }
   ],
   "source": [
    "## check library\n",
    "import gensim\n",
    "\n",
    "## ignore warnings\n",
    "import warnings\n",
    "warnings.filterwarnings('ignore')\n",
    "\n",
    "# # if you want to see the training messages, you can use it\n",
    "# import logging\n",
    "# logging.basicConfig(format='%(asctime)s : %(levelname)s : %(message)s', level=logging.INFO)\n",
    "\n",
    "## the input type\n",
    "train_df['text_tokenized'] = train_df['text'].apply(lambda x: nltk.word_tokenize(x))\n",
    "train_df[['id', 'text', 'text_tokenized']].head()"
   ]
  },
  {
   "cell_type": "code",
   "execution_count": 69,
   "metadata": {},
   "outputs": [
    {
     "data": {
      "text/plain": [
       "array([list(['Watch', 'this', 'amazing', 'live.ly', 'broadcast', 'by', '@', 'huntermcaseyy', '#', 'lively', '#', 'musically']),\n",
       "       list(['I', 'can', 'be', 'so', 'shy', 'but', 'once', 'I', 'come', 'out', 'of', 'my', 'shell', 'that', \"'s\", 'it', '😂']),\n",
       "       list(['Have', 'wee', 'pop', 'socks', 'on', 'and', 'they', 'KEEP', 'FALLING', 'OFF', 'INSIDE', 'MY', 'SHOES', '#', 'rage'])],\n",
       "      dtype=object)"
      ]
     },
     "execution_count": 69,
     "metadata": {},
     "output_type": "execute_result"
    }
   ],
   "source": [
    "## create the training corpus\n",
    "training_corpus = train_df['text_tokenized'].values\n",
    "training_corpus[:3]"
   ]
  },
  {
   "cell_type": "code",
   "execution_count": 70,
   "metadata": {},
   "outputs": [
    {
     "name": "stdout",
     "output_type": "stream",
     "text": [
      "Word2Vec<vocab=11885, vector_size=100, alpha=0.025>\n"
     ]
    }
   ],
   "source": [
    "from gensim.models import Word2Vec\n",
    "\n",
    "## setting\n",
    "vector_dim = 100\n",
    "window_size = 5\n",
    "min_count = 1\n",
    "training_epochs = 20\n",
    "# print(training_corpus)\n",
    "## model\n",
    "word2vec_model = Word2Vec(sentences=training_corpus, \n",
    "                          vector_size=vector_dim, window=window_size, \n",
    "                          min_count=min_count, epochs=training_epochs)\n",
    "print(word2vec_model)"
   ]
  },
  {
   "cell_type": "code",
   "execution_count": 71,
   "metadata": {},
   "outputs": [
    {
     "name": "stdout",
     "output_type": "stream",
     "text": [
      "3613\n",
      "[-0.0598015   0.0293832  -0.05416695 -0.03876141  0.04026383 -0.05757546\n",
      " -0.04577083  0.08940662 -0.0021099   0.00198521  0.05222905 -0.06533026\n",
      "  0.05468163  0.10389463  0.02797807 -0.00502745  0.03950202 -0.03950113\n",
      " -0.00817858 -0.1620148   0.00053145  0.02757377 -0.02321954 -0.05891692\n",
      "  0.02887526 -0.05783731 -0.03261445 -0.0079488  -0.10481308 -0.04781464\n",
      "  0.15832981  0.00317044  0.13070231 -0.07050654 -0.0761506   0.01898752\n",
      "  0.00480486  0.05181237  0.04627095 -0.05438867 -0.08566175  0.00366072\n",
      " -0.06683567 -0.07611367 -0.03467689  0.03117899 -0.01051799  0.0071329\n",
      " -0.02666307  0.1496263   0.02322359 -0.05430776 -0.08119717 -0.01228968\n",
      "  0.11315313 -0.00981415  0.0836358  -0.02934615 -0.03320866  0.05333506\n",
      " -0.048891    0.00844302  0.01074136 -0.00183956 -0.03773353  0.00561994\n",
      " -0.00294708  0.00949848 -0.00762173  0.07702564  0.03217047  0.08987258\n",
      "  0.06492037 -0.07956361  0.05608747 -0.03284252 -0.00232735 -0.03069349\n",
      " -0.04717162 -0.01994984  0.0259862   0.01440763 -0.11150578  0.07455267\n",
      " -0.02562017 -0.04574249 -0.01729929 -0.02249888  0.10377422 -0.02287314\n",
      " -0.00118039  0.05255253 -0.0161172   0.05436074  0.06682749  0.08725131\n",
      " -0.02282283 -0.02515265 -0.00603556 -0.00569054]\n"
     ]
    }
   ],
   "source": [
    "#Reference https://github.com/vagadro/Medium/blob/main/3-Word2Vec.ipynb\n",
    "#          https://github.com/sdimi/average-word2vec/blob/master/notebook.ipynb\n",
    "\n",
    "#here I use average w2v\n",
    "w2v_words = list(word2vec_model.wv.index_to_key)\n",
    "sent_vectors = []\n",
    "for sent in (training_corpus):\n",
    "    sent_vec = np.zeros(100)\n",
    "    cnt_words = 0\n",
    "    #get all word to vectors in each setence and calculate the average word vectors for each setence\n",
    "    for word in sent:\n",
    "        #check the word is in out w2v model fitting dataset\n",
    "        if word in w2v_words:\n",
    "            vec = word2vec_model.wv[word]\n",
    "            sent_vec+=vec\n",
    "            cnt_words+=1\n",
    "        if cnt_words != 0:\n",
    "            sent_vec/=cnt_words\n",
    "    sent_vectors.append(sent_vec)\n",
    "print(len(sent_vectors)) \n",
    "print(sent_vectors[0])"
   ]
  },
  {
   "cell_type": "markdown",
   "metadata": {},
   "source": [
    "After obtaining the word vectors for each sentence, we can use PCA or t-SNE to analyze the relationships between sentences."
   ]
  },
  {
   "cell_type": "code",
   "execution_count": 72,
   "metadata": {},
   "outputs": [
    {
     "name": "stdout",
     "output_type": "stream",
     "text": [
      "[t-SNE] Computing 91 nearest neighbors...\n",
      "[t-SNE] Indexed 3613 samples in 0.002s...\n",
      "[t-SNE] Computed neighbors for 3613 samples in 0.166s...\n",
      "[t-SNE] Computed conditional probabilities for sample 1000 / 3613\n",
      "[t-SNE] Computed conditional probabilities for sample 2000 / 3613\n",
      "[t-SNE] Computed conditional probabilities for sample 3000 / 3613\n",
      "[t-SNE] Computed conditional probabilities for sample 3613 / 3613\n",
      "[t-SNE] Mean sigma: 0.006031\n",
      "[t-SNE] Computed conditional probabilities in 0.153s\n",
      "[t-SNE] Iteration 50: error = 72.6513214, gradient norm = 0.0310707 (50 iterations in 0.575s)\n",
      "[t-SNE] Iteration 100: error = 66.1339951, gradient norm = 0.0080330 (50 iterations in 0.562s)\n",
      "[t-SNE] Iteration 150: error = 64.9791870, gradient norm = 0.0042734 (50 iterations in 0.581s)\n",
      "[t-SNE] Iteration 200: error = 64.5301285, gradient norm = 0.0029563 (50 iterations in 0.597s)\n",
      "[t-SNE] Iteration 250: error = 64.2983093, gradient norm = 0.0023974 (50 iterations in 0.516s)\n",
      "[t-SNE] KL divergence after 250 iterations with early exaggeration: 64.298309\n",
      "[t-SNE] Iteration 300: error = 1.6334329, gradient norm = 0.0198962 (50 iterations in 0.518s)\n",
      "[t-SNE] Iteration 350: error = 1.1879925, gradient norm = 0.0165808 (50 iterations in 0.498s)\n",
      "[t-SNE] Iteration 400: error = 1.0019181, gradient norm = 0.0141361 (50 iterations in 0.490s)\n",
      "[t-SNE] Iteration 450: error = 0.9039474, gradient norm = 0.0123793 (50 iterations in 0.475s)\n",
      "[t-SNE] Iteration 500: error = 0.8454037, gradient norm = 0.0109565 (50 iterations in 0.459s)\n",
      "[t-SNE] Iteration 550: error = 0.8072971, gradient norm = 0.0098531 (50 iterations in 0.476s)\n",
      "[t-SNE] Iteration 600: error = 0.7814587, gradient norm = 0.0089009 (50 iterations in 0.469s)\n",
      "[t-SNE] Iteration 650: error = 0.7626729, gradient norm = 0.0077032 (50 iterations in 0.467s)\n",
      "[t-SNE] Iteration 700: error = 0.7503392, gradient norm = 0.0063168 (50 iterations in 0.472s)\n",
      "[t-SNE] Iteration 750: error = 0.7422081, gradient norm = 0.0049260 (50 iterations in 0.472s)\n",
      "[t-SNE] Iteration 800: error = 0.7365394, gradient norm = 0.0037420 (50 iterations in 0.467s)\n",
      "[t-SNE] Iteration 850: error = 0.7328064, gradient norm = 0.0030550 (50 iterations in 0.476s)\n",
      "[t-SNE] Iteration 900: error = 0.7295040, gradient norm = 0.0029846 (50 iterations in 0.489s)\n",
      "[t-SNE] Iteration 950: error = 0.7266420, gradient norm = 0.0027765 (50 iterations in 0.480s)\n",
      "[t-SNE] Iteration 1000: error = 0.7240109, gradient norm = 0.0025409 (50 iterations in 0.470s)\n",
      "[t-SNE] KL divergence after 1000 iterations: 0.724011\n"
     ]
    }
   ],
   "source": [
    "from sklearn.manifold import TSNE\n",
    "X_tsne = TSNE(n_components=2, verbose=2).fit_transform(np.array(sent_vectors))"
   ]
  },
  {
   "cell_type": "markdown",
   "metadata": {},
   "source": [
    "---\n",
    "### ** >>> Exercise 8 (Take home): **  \n",
    "\n",
    "Generate a t-SNE visualization to show the 15 words most related to the words \"angry\", \"happy\", \"sad\", \"fear\" (60 words total)."
   ]
  },
  {
   "cell_type": "code",
   "execution_count": 73,
   "metadata": {},
   "outputs": [
    {
     "name": "stdout",
     "output_type": "stream",
     "text": [
      "load ok\n"
     ]
    },
    {
     "data": {
      "text/plain": [
       "[('glad', 0.7408890724182129),\n",
       " ('pleased', 0.6632170677185059),\n",
       " ('ecstatic', 0.6626912355422974),\n",
       " ('overjoyed', 0.6599286794662476),\n",
       " ('thrilled', 0.6514049172401428),\n",
       " ('satisfied', 0.6437949538230896),\n",
       " ('proud', 0.636042058467865),\n",
       " ('delighted', 0.6272379159927368),\n",
       " ('disappointed', 0.6269949674606323),\n",
       " ('excited', 0.6247665882110596)]"
      ]
     },
     "execution_count": 73,
     "metadata": {},
     "output_type": "execute_result"
    }
   ],
   "source": [
    "from gensim.models import KeyedVectors\n",
    "\n",
    "## Note: this model is very huge, this will take some time ...\n",
    "model_path = \"../GoogleNews-vectors-negative300.bin.gz\"\n",
    "w2v_google_model = KeyedVectors.load_word2vec_format(model_path, binary=True)\n",
    "print('load ok')\n",
    "\n",
    "w2v_google_model.most_similar('happy', topn=10)\n"
   ]
  },
  {
   "cell_type": "code",
   "execution_count": 74,
   "metadata": {},
   "outputs": [
    {
     "name": "stdout",
     "output_type": "stream",
     "text": [
      "happy_words:  ['happy', 'glad', 'pleased', 'ecstatic', 'overjoyed', 'thrilled', 'satisfied', 'proud', 'delighted', 'disappointed', 'excited', 'happier', 'Said_Hirschbeck', 'elated', 'thankful', 'unhappy']\n",
      "angry_words:  ['angry', 'irate', 'enraged', 'indignant', 'incensed', 'annoyed', 'agitated', 'frustrated', 'furious', 'unhappy', 'outraged', 'livid', 'irritated', 'exasperated', 'angrier', 'Angry']\n",
      "sad_words:  ['sad', 'saddening', 'Sad', 'saddened', 'heartbreaking', 'disheartening', 'Meny_Friedman', 'parishioner_Pat_Patello', 'saddens_me', 'distressing', 'reminders_bobbing', 'Turkoman_Shiites', 'saddest', 'unfortunate', 'sorry', 'bittersweet']\n",
      "fear_words:  ['fear', 'fearful', 'fears', 'Fear', 'fearing', 'worry', 'dread', 'feared', 'anxiety', 'apprehension', 'afraid', 'worries', 'concern', 'distrust', 'worried', 'Fearful']\n",
      "\n",
      "target words: \n",
      "['happy', 'glad', 'pleased', 'ecstatic', 'overjoyed', 'thrilled', 'satisfied', 'proud', 'delighted', 'disappointed', 'excited', 'happier', 'Said_Hirschbeck', 'elated', 'thankful', 'unhappy', 'angry', 'irate', 'enraged', 'indignant', 'incensed', 'annoyed', 'agitated', 'frustrated', 'furious', 'unhappy', 'outraged', 'livid', 'irritated', 'exasperated', 'angrier', 'Angry', 'sad', 'saddening', 'Sad', 'saddened', 'heartbreaking', 'disheartening', 'Meny_Friedman', 'parishioner_Pat_Patello', 'saddens_me', 'distressing', 'reminders_bobbing', 'Turkoman_Shiites', 'saddest', 'unfortunate', 'sorry', 'bittersweet', 'fear', 'fearful', 'fears', 'Fear', 'fearing', 'worry', 'dread', 'feared', 'anxiety', 'apprehension', 'afraid', 'worries', 'concern', 'distrust', 'worried', 'Fearful']\n",
      "\n",
      "color list:\n",
      "['b', 'b', 'b', 'b', 'b', 'b', 'b', 'b', 'b', 'b', 'b', 'b', 'b', 'b', 'b', 'b', 'g', 'g', 'g', 'g', 'g', 'g', 'g', 'g', 'g', 'g', 'g', 'g', 'g', 'g', 'g', 'g', 'r', 'r', 'r', 'r', 'r', 'r', 'r', 'r', 'r', 'r', 'r', 'r', 'r', 'r', 'r', 'r', 'y', 'y', 'y', 'y', 'y', 'y', 'y', 'y', 'y', 'y', 'y', 'y', 'y', 'y', 'y', 'y']\n"
     ]
    }
   ],
   "source": [
    "word_list = ['happy', 'angry', 'sad', 'fear']\n",
    "\n",
    "topn = 15\n",
    "happy_words = ['happy'] + [word_ for word_, sim_ in w2v_google_model.most_similar('happy', topn=topn)]\n",
    "angry_words = ['angry'] + [word_ for word_, sim_ in w2v_google_model.most_similar('angry', topn=topn)]        \n",
    "sad_words = ['sad'] + [word_ for word_, sim_ in w2v_google_model.most_similar('sad', topn=topn)]        \n",
    "fear_words = ['fear'] + [word_ for word_, sim_ in w2v_google_model.most_similar('fear', topn=topn)]        \n",
    "\n",
    "print('happy_words: ', happy_words)\n",
    "print('angry_words: ', angry_words)\n",
    "print('sad_words: ', sad_words)\n",
    "print('fear_words: ', fear_words)\n",
    "\n",
    "target_words = happy_words + angry_words + sad_words + fear_words\n",
    "print('\\ntarget words: ')\n",
    "print(target_words)\n",
    "\n",
    "print('\\ncolor list:')\n",
    "cn = topn + 1\n",
    "color = ['b'] * cn + ['g'] * cn + ['r'] * cn + ['y'] * cn\n",
    "print(color)"
   ]
  },
  {
   "cell_type": "code",
   "execution_count": 75,
   "metadata": {},
   "outputs": [
    {
     "data": {
      "image/png": "[encoded data removed]",
      "text/plain": [
       "<Figure size 862.5x862.5 with 1 Axes>"
      ]
     },
     "metadata": {},
     "output_type": "display_data"
    }
   ],
   "source": [
    "%matplotlib inline\n",
    "import matplotlib.pyplot as plt\n",
    "from sklearn.manifold import TSNE\n",
    "\n",
    "## w2v model\n",
    "model = w2v_google_model\n",
    "\n",
    "## prepare training word vectors\n",
    "size = 200\n",
    "target_size = len(target_words)\n",
    "all_word = list(model.index_to_key)\n",
    "word_train = target_words + all_word[:size]\n",
    "X_train = model[word_train]\n",
    "\n",
    "## t-SNE model\n",
    "tsne = TSNE(n_components=2, metric='cosine', random_state=20)\n",
    "\n",
    "## training\n",
    "X_tsne = tsne.fit_transform(X_train)\n",
    "\n",
    "## plot the result\n",
    "plt.figure(figsize=(7.5, 7.5), dpi=115)\n",
    "plt.scatter(X_tsne[:target_size, 0], X_tsne[:target_size, 1], c=color)\n",
    "for label, x, y in zip(target_words, X_tsne[:target_size, 0], X_tsne[:target_size, 1]):\n",
    "    plt.annotate(label, xy=(x,y), xytext=(0,0),  textcoords='offset points')\n",
    "plt.show()"
   ]
  },
  {
   "cell_type": "markdown",
   "metadata": {},
   "source": [
    "From above graph, I can find when we use word2vec to find similar word for \"happy\", \"unhappy and \"said_Hirschbeck in TSEN are not in \"happy\" group, and \"disappointed is closed to \"angry\" and \"sad\" groups. \n",
    "\n",
    "The similar words for four enmotions, I can find \"happy\" and \"angry\" group have same word \"unhappy\" and in TSEN we can find better related to two group.\n",
    "\n",
    "From above graph, we can use TSEN to check the outlier for word2vec results."
   ]
  },
  {
   "cell_type": "markdown",
   "metadata": {},
   "source": [
    "\n",
    "### 3. Third: __This part is worth 30% of your grade.__ A report of your work developping the model for the competition (You can use code and comment it). This report should include what your preprocessing steps, the feature engineering steps and an explanation of your model. You can also mention different things you tried and insights you gained. "
   ]
  },
  {
   "cell_type": "markdown",
   "metadata": {},
   "source": [
    "#### 1. Data preparation"
   ]
  },
  {
   "cell_type": "markdown",
   "metadata": {},
   "source": [
    "##### 1.1 Download and combine datasets"
   ]
  },
  {
   "cell_type": "code",
   "execution_count": 39,
   "metadata": {},
   "outputs": [],
   "source": [
    "#because Kaggle just can use 30G GPU per week, I develop the model over my computer.\n",
    "#read the first dataset\n",
    "\n",
    "import json\n",
    "import pandas as pd\n",
    "\n",
    "text = pd.read_json(\"../../dm2023-isa5810-lab2-homework/tweets_DM.json\",lines=True)"
   ]
  },
  {
   "cell_type": "code",
   "execution_count": 40,
   "metadata": {},
   "outputs": [
    {
     "data": {
      "text/html": [
       "<div>\n",
       "<style scoped>\n",
       "    .dataframe tbody tr th:only-of-type {\n",
       "        vertical-align: middle;\n",
       "    }\n",
       "\n",
       "    .dataframe tbody tr th {\n",
       "        vertical-align: top;\n",
       "    }\n",
       "\n",
       "    .dataframe thead th {\n",
       "        text-align: right;\n",
       "    }\n",
       "</style>\n",
       "<table border=\"1\" class=\"dataframe\">\n",
       "  <thead>\n",
       "    <tr style=\"text-align: right;\">\n",
       "      <th></th>\n",
       "      <th>_score</th>\n",
       "      <th>_index</th>\n",
       "      <th>_source</th>\n",
       "      <th>_crawldate</th>\n",
       "      <th>_type</th>\n",
       "    </tr>\n",
       "  </thead>\n",
       "  <tbody>\n",
       "    <tr>\n",
       "      <th>0</th>\n",
       "      <td>391</td>\n",
       "      <td>hashtag_tweets</td>\n",
       "      <td>{'tweet': {'hashtags': ['Snapchat'], 'tweet_id...</td>\n",
       "      <td>2015-05-23 11:42:47</td>\n",
       "      <td>tweets</td>\n",
       "    </tr>\n",
       "    <tr>\n",
       "      <th>1</th>\n",
       "      <td>433</td>\n",
       "      <td>hashtag_tweets</td>\n",
       "      <td>{'tweet': {'hashtags': ['freepress', 'TrumpLeg...</td>\n",
       "      <td>2016-01-28 04:52:09</td>\n",
       "      <td>tweets</td>\n",
       "    </tr>\n",
       "    <tr>\n",
       "      <th>2</th>\n",
       "      <td>232</td>\n",
       "      <td>hashtag_tweets</td>\n",
       "      <td>{'tweet': {'hashtags': ['bibleverse'], 'tweet_...</td>\n",
       "      <td>2017-12-25 04:39:20</td>\n",
       "      <td>tweets</td>\n",
       "    </tr>\n",
       "    <tr>\n",
       "      <th>3</th>\n",
       "      <td>376</td>\n",
       "      <td>hashtag_tweets</td>\n",
       "      <td>{'tweet': {'hashtags': [], 'tweet_id': '0x1cd5...</td>\n",
       "      <td>2016-01-24 23:53:05</td>\n",
       "      <td>tweets</td>\n",
       "    </tr>\n",
       "    <tr>\n",
       "      <th>4</th>\n",
       "      <td>989</td>\n",
       "      <td>hashtag_tweets</td>\n",
       "      <td>{'tweet': {'hashtags': [], 'tweet_id': '0x2de2...</td>\n",
       "      <td>2016-01-08 17:18:59</td>\n",
       "      <td>tweets</td>\n",
       "    </tr>\n",
       "    <tr>\n",
       "      <th>...</th>\n",
       "      <td>...</td>\n",
       "      <td>...</td>\n",
       "      <td>...</td>\n",
       "      <td>...</td>\n",
       "      <td>...</td>\n",
       "    </tr>\n",
       "    <tr>\n",
       "      <th>1867530</th>\n",
       "      <td>827</td>\n",
       "      <td>hashtag_tweets</td>\n",
       "      <td>{'tweet': {'hashtags': ['mixedfeeling', 'butim...</td>\n",
       "      <td>2015-05-12 12:51:52</td>\n",
       "      <td>tweets</td>\n",
       "    </tr>\n",
       "    <tr>\n",
       "      <th>1867531</th>\n",
       "      <td>368</td>\n",
       "      <td>hashtag_tweets</td>\n",
       "      <td>{'tweet': {'hashtags': [], 'tweet_id': '0x29d0...</td>\n",
       "      <td>2017-10-02 17:54:04</td>\n",
       "      <td>tweets</td>\n",
       "    </tr>\n",
       "    <tr>\n",
       "      <th>1867532</th>\n",
       "      <td>498</td>\n",
       "      <td>hashtag_tweets</td>\n",
       "      <td>{'tweet': {'hashtags': [], 'tweet_id': '0x2a6a...</td>\n",
       "      <td>2016-10-10 11:04:32</td>\n",
       "      <td>tweets</td>\n",
       "    </tr>\n",
       "    <tr>\n",
       "      <th>1867533</th>\n",
       "      <td>840</td>\n",
       "      <td>hashtag_tweets</td>\n",
       "      <td>{'tweet': {'hashtags': [], 'tweet_id': '0x24fa...</td>\n",
       "      <td>2016-09-02 14:25:06</td>\n",
       "      <td>tweets</td>\n",
       "    </tr>\n",
       "    <tr>\n",
       "      <th>1867534</th>\n",
       "      <td>360</td>\n",
       "      <td>hashtag_tweets</td>\n",
       "      <td>{'tweet': {'hashtags': ['Sundayvibes'], 'tweet...</td>\n",
       "      <td>2016-11-16 01:40:07</td>\n",
       "      <td>tweets</td>\n",
       "    </tr>\n",
       "  </tbody>\n",
       "</table>\n",
       "<p>1867535 rows × 5 columns</p>\n",
       "</div>"
      ],
      "text/plain": [
       "         _score          _index  \\\n",
       "0           391  hashtag_tweets   \n",
       "1           433  hashtag_tweets   \n",
       "2           232  hashtag_tweets   \n",
       "3           376  hashtag_tweets   \n",
       "4           989  hashtag_tweets   \n",
       "...         ...             ...   \n",
       "1867530     827  hashtag_tweets   \n",
       "1867531     368  hashtag_tweets   \n",
       "1867532     498  hashtag_tweets   \n",
       "1867533     840  hashtag_tweets   \n",
       "1867534     360  hashtag_tweets   \n",
       "\n",
       "                                                   _source  \\\n",
       "0        {'tweet': {'hashtags': ['Snapchat'], 'tweet_id...   \n",
       "1        {'tweet': {'hashtags': ['freepress', 'TrumpLeg...   \n",
       "2        {'tweet': {'hashtags': ['bibleverse'], 'tweet_...   \n",
       "3        {'tweet': {'hashtags': [], 'tweet_id': '0x1cd5...   \n",
       "4        {'tweet': {'hashtags': [], 'tweet_id': '0x2de2...   \n",
       "...                                                    ...   \n",
       "1867530  {'tweet': {'hashtags': ['mixedfeeling', 'butim...   \n",
       "1867531  {'tweet': {'hashtags': [], 'tweet_id': '0x29d0...   \n",
       "1867532  {'tweet': {'hashtags': [], 'tweet_id': '0x2a6a...   \n",
       "1867533  {'tweet': {'hashtags': [], 'tweet_id': '0x24fa...   \n",
       "1867534  {'tweet': {'hashtags': ['Sundayvibes'], 'tweet...   \n",
       "\n",
       "                  _crawldate   _type  \n",
       "0        2015-05-23 11:42:47  tweets  \n",
       "1        2016-01-28 04:52:09  tweets  \n",
       "2        2017-12-25 04:39:20  tweets  \n",
       "3        2016-01-24 23:53:05  tweets  \n",
       "4        2016-01-08 17:18:59  tweets  \n",
       "...                      ...     ...  \n",
       "1867530  2015-05-12 12:51:52  tweets  \n",
       "1867531  2017-10-02 17:54:04  tweets  \n",
       "1867532  2016-10-10 11:04:32  tweets  \n",
       "1867533  2016-09-02 14:25:06  tweets  \n",
       "1867534  2016-11-16 01:40:07  tweets  \n",
       "\n",
       "[1867535 rows x 5 columns]"
      ]
     },
     "execution_count": 40,
     "metadata": {},
     "output_type": "execute_result"
    }
   ],
   "source": [
    "#check the dataset\n",
    "text"
   ]
  },
  {
   "cell_type": "code",
   "execution_count": 41,
   "metadata": {},
   "outputs": [
    {
     "data": {
      "text/plain": [
       "0          391\n",
       "1          433\n",
       "2          232\n",
       "3          376\n",
       "4          989\n",
       "          ... \n",
       "1867530    827\n",
       "1867531    368\n",
       "1867532    498\n",
       "1867533    840\n",
       "1867534    360\n",
       "Name: _score, Length: 1867535, dtype: int64"
      ]
     },
     "execution_count": 41,
     "metadata": {},
     "output_type": "execute_result"
    }
   ],
   "source": [
    "text['_score']"
   ]
  },
  {
   "cell_type": "code",
   "execution_count": 42,
   "metadata": {},
   "outputs": [
    {
     "data": {
      "text/plain": [
       "'hashtag_tweets'"
      ]
     },
     "execution_count": 42,
     "metadata": {},
     "output_type": "execute_result"
    }
   ],
   "source": [
    "text['_index'][200]"
   ]
  },
  {
   "cell_type": "code",
   "execution_count": 43,
   "metadata": {},
   "outputs": [
    {
     "name": "stdout",
     "output_type": "stream",
     "text": [
      "{'hashtags': ['Snapchat'], 'tweet_id': '0x376b20', 'text': 'People who post \"add me on #Snapchat\" must be dehydrated. Cuz man.... that\\'s <LH>'}\n"
     ]
    }
   ],
   "source": [
    "print(text['_source'][0]['tweet'])\n",
    "# text['_source'][1152]"
   ]
  },
  {
   "cell_type": "code",
   "execution_count": 44,
   "metadata": {},
   "outputs": [
    {
     "data": {
      "text/plain": [
       "{'tweet': {'hashtags': ['freepress', 'TrumpLegacy', 'CNN'],\n",
       "  'tweet_id': '0x2d5350',\n",
       "  'text': '@brianklaas As we see, Trump is dangerous to #freepress around the world. What a <LH> <LH> #TrumpLegacy.  #CNN'}}"
      ]
     },
     "execution_count": 44,
     "metadata": {},
     "output_type": "execute_result"
    }
   ],
   "source": [
    "text['_source'][1]"
   ]
  },
  {
   "cell_type": "code",
   "execution_count": 45,
   "metadata": {},
   "outputs": [
    {
     "data": {
      "text/plain": [
       "0          People who post \"add me on #Snapchat\" must be ...\n",
       "1          @brianklaas As we see, Trump is dangerous to #...\n",
       "2          Confident of your obedience, I write to you, k...\n",
       "3                        Now ISSA is stalking Tasha 😂😂😂 <LH>\n",
       "4          \"Trust is not the same as faith. A friend is s...\n",
       "                                 ...                        \n",
       "1867530    When you buy the last 2 tickets remaining for ...\n",
       "1867531    I swear all this hard work gone pay off one da...\n",
       "1867532    @Parcel2Go no card left when I wasn't in so I ...\n",
       "1867533    Ah, corporate life, where you can date <LH> us...\n",
       "1867534               Blessed to be living #Sundayvibes <LH>\n",
       "Name: text, Length: 1867535, dtype: object"
      ]
     },
     "execution_count": 45,
     "metadata": {},
     "output_type": "execute_result"
    }
   ],
   "source": [
    "text['text'] = text['_source'].apply(lambda x:x['tweet']['text'])\n",
    "text['text']"
   ]
  },
  {
   "cell_type": "code",
   "execution_count": 46,
   "metadata": {},
   "outputs": [
    {
     "data": {
      "text/plain": [
       "0          0x376b20\n",
       "1          0x2d5350\n",
       "2          0x28b412\n",
       "3          0x1cd5b0\n",
       "4          0x2de201\n",
       "             ...   \n",
       "1867530    0x316b80\n",
       "1867531    0x29d0cb\n",
       "1867532    0x2a6a4f\n",
       "1867533    0x24faed\n",
       "1867534    0x34be8c\n",
       "Name: tweet_id, Length: 1867535, dtype: object"
      ]
     },
     "execution_count": 46,
     "metadata": {},
     "output_type": "execute_result"
    }
   ],
   "source": [
    "text['tweet_id'] = text['_source'].apply(lambda x:x['tweet']['tweet_id'])\n",
    "text['tweet_id']"
   ]
  },
  {
   "cell_type": "code",
   "execution_count": 48,
   "metadata": {},
   "outputs": [
    {
     "data": {
      "text/html": [
       "<div>\n",
       "<style scoped>\n",
       "    .dataframe tbody tr th:only-of-type {\n",
       "        vertical-align: middle;\n",
       "    }\n",
       "\n",
       "    .dataframe tbody tr th {\n",
       "        vertical-align: top;\n",
       "    }\n",
       "\n",
       "    .dataframe thead th {\n",
       "        text-align: right;\n",
       "    }\n",
       "</style>\n",
       "<table border=\"1\" class=\"dataframe\">\n",
       "  <thead>\n",
       "    <tr style=\"text-align: right;\">\n",
       "      <th></th>\n",
       "      <th>tweet_id</th>\n",
       "      <th>identification</th>\n",
       "    </tr>\n",
       "  </thead>\n",
       "  <tbody>\n",
       "    <tr>\n",
       "      <th>0</th>\n",
       "      <td>0x28cc61</td>\n",
       "      <td>test</td>\n",
       "    </tr>\n",
       "    <tr>\n",
       "      <th>1</th>\n",
       "      <td>0x29e452</td>\n",
       "      <td>train</td>\n",
       "    </tr>\n",
       "    <tr>\n",
       "      <th>2</th>\n",
       "      <td>0x2b3819</td>\n",
       "      <td>train</td>\n",
       "    </tr>\n",
       "    <tr>\n",
       "      <th>3</th>\n",
       "      <td>0x2db41f</td>\n",
       "      <td>test</td>\n",
       "    </tr>\n",
       "    <tr>\n",
       "      <th>4</th>\n",
       "      <td>0x2a2acc</td>\n",
       "      <td>train</td>\n",
       "    </tr>\n",
       "    <tr>\n",
       "      <th>...</th>\n",
       "      <td>...</td>\n",
       "      <td>...</td>\n",
       "    </tr>\n",
       "    <tr>\n",
       "      <th>1867530</th>\n",
       "      <td>0x227e25</td>\n",
       "      <td>train</td>\n",
       "    </tr>\n",
       "    <tr>\n",
       "      <th>1867531</th>\n",
       "      <td>0x293813</td>\n",
       "      <td>train</td>\n",
       "    </tr>\n",
       "    <tr>\n",
       "      <th>1867532</th>\n",
       "      <td>0x1e1a7e</td>\n",
       "      <td>train</td>\n",
       "    </tr>\n",
       "    <tr>\n",
       "      <th>1867533</th>\n",
       "      <td>0x2156a5</td>\n",
       "      <td>train</td>\n",
       "    </tr>\n",
       "    <tr>\n",
       "      <th>1867534</th>\n",
       "      <td>0x2bb9d2</td>\n",
       "      <td>train</td>\n",
       "    </tr>\n",
       "  </tbody>\n",
       "</table>\n",
       "<p>1867535 rows × 2 columns</p>\n",
       "</div>"
      ],
      "text/plain": [
       "         tweet_id identification\n",
       "0        0x28cc61           test\n",
       "1        0x29e452          train\n",
       "2        0x2b3819          train\n",
       "3        0x2db41f           test\n",
       "4        0x2a2acc          train\n",
       "...           ...            ...\n",
       "1867530  0x227e25          train\n",
       "1867531  0x293813          train\n",
       "1867532  0x1e1a7e          train\n",
       "1867533  0x2156a5          train\n",
       "1867534  0x2bb9d2          train\n",
       "\n",
       "[1867535 rows x 2 columns]"
      ]
     },
     "execution_count": 48,
     "metadata": {},
     "output_type": "execute_result"
    }
   ],
   "source": [
    "#read the second dataset\n",
    "series = pd.read_csv(\"../../dm2023-isa5810-lab2-homework/data_identification.csv\")\n",
    "series"
   ]
  },
  {
   "cell_type": "code",
   "execution_count": 49,
   "metadata": {},
   "outputs": [
    {
     "data": {
      "text/html": [
       "<div>\n",
       "<style scoped>\n",
       "    .dataframe tbody tr th:only-of-type {\n",
       "        vertical-align: middle;\n",
       "    }\n",
       "\n",
       "    .dataframe tbody tr th {\n",
       "        vertical-align: top;\n",
       "    }\n",
       "\n",
       "    .dataframe thead th {\n",
       "        text-align: right;\n",
       "    }\n",
       "</style>\n",
       "<table border=\"1\" class=\"dataframe\">\n",
       "  <thead>\n",
       "    <tr style=\"text-align: right;\">\n",
       "      <th></th>\n",
       "      <th>_score</th>\n",
       "      <th>_index</th>\n",
       "      <th>_source</th>\n",
       "      <th>_crawldate</th>\n",
       "      <th>_type</th>\n",
       "      <th>text</th>\n",
       "      <th>tweet_id</th>\n",
       "      <th>identification</th>\n",
       "    </tr>\n",
       "  </thead>\n",
       "  <tbody>\n",
       "    <tr>\n",
       "      <th>0</th>\n",
       "      <td>391</td>\n",
       "      <td>hashtag_tweets</td>\n",
       "      <td>{'tweet': {'hashtags': ['Snapchat'], 'tweet_id...</td>\n",
       "      <td>2015-05-23 11:42:47</td>\n",
       "      <td>tweets</td>\n",
       "      <td>People who post \"add me on #Snapchat\" must be ...</td>\n",
       "      <td>0x376b20</td>\n",
       "      <td>train</td>\n",
       "    </tr>\n",
       "    <tr>\n",
       "      <th>1</th>\n",
       "      <td>433</td>\n",
       "      <td>hashtag_tweets</td>\n",
       "      <td>{'tweet': {'hashtags': ['freepress', 'TrumpLeg...</td>\n",
       "      <td>2016-01-28 04:52:09</td>\n",
       "      <td>tweets</td>\n",
       "      <td>@brianklaas As we see, Trump is dangerous to #...</td>\n",
       "      <td>0x2d5350</td>\n",
       "      <td>train</td>\n",
       "    </tr>\n",
       "    <tr>\n",
       "      <th>2</th>\n",
       "      <td>232</td>\n",
       "      <td>hashtag_tweets</td>\n",
       "      <td>{'tweet': {'hashtags': ['bibleverse'], 'tweet_...</td>\n",
       "      <td>2017-12-25 04:39:20</td>\n",
       "      <td>tweets</td>\n",
       "      <td>Confident of your obedience, I write to you, k...</td>\n",
       "      <td>0x28b412</td>\n",
       "      <td>test</td>\n",
       "    </tr>\n",
       "    <tr>\n",
       "      <th>3</th>\n",
       "      <td>376</td>\n",
       "      <td>hashtag_tweets</td>\n",
       "      <td>{'tweet': {'hashtags': [], 'tweet_id': '0x1cd5...</td>\n",
       "      <td>2016-01-24 23:53:05</td>\n",
       "      <td>tweets</td>\n",
       "      <td>Now ISSA is stalking Tasha 😂😂😂 &lt;LH&gt;</td>\n",
       "      <td>0x1cd5b0</td>\n",
       "      <td>train</td>\n",
       "    </tr>\n",
       "    <tr>\n",
       "      <th>4</th>\n",
       "      <td>989</td>\n",
       "      <td>hashtag_tweets</td>\n",
       "      <td>{'tweet': {'hashtags': [], 'tweet_id': '0x2de2...</td>\n",
       "      <td>2016-01-08 17:18:59</td>\n",
       "      <td>tweets</td>\n",
       "      <td>\"Trust is not the same as faith. A friend is s...</td>\n",
       "      <td>0x2de201</td>\n",
       "      <td>test</td>\n",
       "    </tr>\n",
       "    <tr>\n",
       "      <th>...</th>\n",
       "      <td>...</td>\n",
       "      <td>...</td>\n",
       "      <td>...</td>\n",
       "      <td>...</td>\n",
       "      <td>...</td>\n",
       "      <td>...</td>\n",
       "      <td>...</td>\n",
       "      <td>...</td>\n",
       "    </tr>\n",
       "    <tr>\n",
       "      <th>1867530</th>\n",
       "      <td>827</td>\n",
       "      <td>hashtag_tweets</td>\n",
       "      <td>{'tweet': {'hashtags': ['mixedfeeling', 'butim...</td>\n",
       "      <td>2015-05-12 12:51:52</td>\n",
       "      <td>tweets</td>\n",
       "      <td>When you buy the last 2 tickets remaining for ...</td>\n",
       "      <td>0x316b80</td>\n",
       "      <td>test</td>\n",
       "    </tr>\n",
       "    <tr>\n",
       "      <th>1867531</th>\n",
       "      <td>368</td>\n",
       "      <td>hashtag_tweets</td>\n",
       "      <td>{'tweet': {'hashtags': [], 'tweet_id': '0x29d0...</td>\n",
       "      <td>2017-10-02 17:54:04</td>\n",
       "      <td>tweets</td>\n",
       "      <td>I swear all this hard work gone pay off one da...</td>\n",
       "      <td>0x29d0cb</td>\n",
       "      <td>test</td>\n",
       "    </tr>\n",
       "    <tr>\n",
       "      <th>1867532</th>\n",
       "      <td>498</td>\n",
       "      <td>hashtag_tweets</td>\n",
       "      <td>{'tweet': {'hashtags': [], 'tweet_id': '0x2a6a...</td>\n",
       "      <td>2016-10-10 11:04:32</td>\n",
       "      <td>tweets</td>\n",
       "      <td>@Parcel2Go no card left when I wasn't in so I ...</td>\n",
       "      <td>0x2a6a4f</td>\n",
       "      <td>test</td>\n",
       "    </tr>\n",
       "    <tr>\n",
       "      <th>1867533</th>\n",
       "      <td>840</td>\n",
       "      <td>hashtag_tweets</td>\n",
       "      <td>{'tweet': {'hashtags': [], 'tweet_id': '0x24fa...</td>\n",
       "      <td>2016-09-02 14:25:06</td>\n",
       "      <td>tweets</td>\n",
       "      <td>Ah, corporate life, where you can date &lt;LH&gt; us...</td>\n",
       "      <td>0x24faed</td>\n",
       "      <td>train</td>\n",
       "    </tr>\n",
       "    <tr>\n",
       "      <th>1867534</th>\n",
       "      <td>360</td>\n",
       "      <td>hashtag_tweets</td>\n",
       "      <td>{'tweet': {'hashtags': ['Sundayvibes'], 'tweet...</td>\n",
       "      <td>2016-11-16 01:40:07</td>\n",
       "      <td>tweets</td>\n",
       "      <td>Blessed to be living #Sundayvibes &lt;LH&gt;</td>\n",
       "      <td>0x34be8c</td>\n",
       "      <td>train</td>\n",
       "    </tr>\n",
       "  </tbody>\n",
       "</table>\n",
       "<p>1867535 rows × 8 columns</p>\n",
       "</div>"
      ],
      "text/plain": [
       "         _score          _index  \\\n",
       "0           391  hashtag_tweets   \n",
       "1           433  hashtag_tweets   \n",
       "2           232  hashtag_tweets   \n",
       "3           376  hashtag_tweets   \n",
       "4           989  hashtag_tweets   \n",
       "...         ...             ...   \n",
       "1867530     827  hashtag_tweets   \n",
       "1867531     368  hashtag_tweets   \n",
       "1867532     498  hashtag_tweets   \n",
       "1867533     840  hashtag_tweets   \n",
       "1867534     360  hashtag_tweets   \n",
       "\n",
       "                                                   _source  \\\n",
       "0        {'tweet': {'hashtags': ['Snapchat'], 'tweet_id...   \n",
       "1        {'tweet': {'hashtags': ['freepress', 'TrumpLeg...   \n",
       "2        {'tweet': {'hashtags': ['bibleverse'], 'tweet_...   \n",
       "3        {'tweet': {'hashtags': [], 'tweet_id': '0x1cd5...   \n",
       "4        {'tweet': {'hashtags': [], 'tweet_id': '0x2de2...   \n",
       "...                                                    ...   \n",
       "1867530  {'tweet': {'hashtags': ['mixedfeeling', 'butim...   \n",
       "1867531  {'tweet': {'hashtags': [], 'tweet_id': '0x29d0...   \n",
       "1867532  {'tweet': {'hashtags': [], 'tweet_id': '0x2a6a...   \n",
       "1867533  {'tweet': {'hashtags': [], 'tweet_id': '0x24fa...   \n",
       "1867534  {'tweet': {'hashtags': ['Sundayvibes'], 'tweet...   \n",
       "\n",
       "                  _crawldate   _type  \\\n",
       "0        2015-05-23 11:42:47  tweets   \n",
       "1        2016-01-28 04:52:09  tweets   \n",
       "2        2017-12-25 04:39:20  tweets   \n",
       "3        2016-01-24 23:53:05  tweets   \n",
       "4        2016-01-08 17:18:59  tweets   \n",
       "...                      ...     ...   \n",
       "1867530  2015-05-12 12:51:52  tweets   \n",
       "1867531  2017-10-02 17:54:04  tweets   \n",
       "1867532  2016-10-10 11:04:32  tweets   \n",
       "1867533  2016-09-02 14:25:06  tweets   \n",
       "1867534  2016-11-16 01:40:07  tweets   \n",
       "\n",
       "                                                      text  tweet_id  \\\n",
       "0        People who post \"add me on #Snapchat\" must be ...  0x376b20   \n",
       "1        @brianklaas As we see, Trump is dangerous to #...  0x2d5350   \n",
       "2        Confident of your obedience, I write to you, k...  0x28b412   \n",
       "3                      Now ISSA is stalking Tasha 😂😂😂 <LH>  0x1cd5b0   \n",
       "4        \"Trust is not the same as faith. A friend is s...  0x2de201   \n",
       "...                                                    ...       ...   \n",
       "1867530  When you buy the last 2 tickets remaining for ...  0x316b80   \n",
       "1867531  I swear all this hard work gone pay off one da...  0x29d0cb   \n",
       "1867532  @Parcel2Go no card left when I wasn't in so I ...  0x2a6a4f   \n",
       "1867533  Ah, corporate life, where you can date <LH> us...  0x24faed   \n",
       "1867534             Blessed to be living #Sundayvibes <LH>  0x34be8c   \n",
       "\n",
       "        identification  \n",
       "0                train  \n",
       "1                train  \n",
       "2                 test  \n",
       "3                train  \n",
       "4                 test  \n",
       "...                ...  \n",
       "1867530           test  \n",
       "1867531           test  \n",
       "1867532           test  \n",
       "1867533          train  \n",
       "1867534          train  \n",
       "\n",
       "[1867535 rows x 8 columns]"
      ]
     },
     "execution_count": 49,
     "metadata": {},
     "output_type": "execute_result"
    }
   ],
   "source": [
    "#combine two dataset with same tweet_id\n",
    "data = pd.merge(text,series,how='inner') #need to code data = pd.merge(text,series, on=['tweet_id],how='inner'). Here the results are same.\n",
    "data"
   ]
  },
  {
   "cell_type": "code",
   "execution_count": 50,
   "metadata": {},
   "outputs": [
    {
     "data": {
      "text/html": [
       "<div>\n",
       "<style scoped>\n",
       "    .dataframe tbody tr th:only-of-type {\n",
       "        vertical-align: middle;\n",
       "    }\n",
       "\n",
       "    .dataframe tbody tr th {\n",
       "        vertical-align: top;\n",
       "    }\n",
       "\n",
       "    .dataframe thead th {\n",
       "        text-align: right;\n",
       "    }\n",
       "</style>\n",
       "<table border=\"1\" class=\"dataframe\">\n",
       "  <thead>\n",
       "    <tr style=\"text-align: right;\">\n",
       "      <th></th>\n",
       "      <th>_score</th>\n",
       "      <th>_index</th>\n",
       "      <th>_source</th>\n",
       "      <th>_crawldate</th>\n",
       "      <th>_type</th>\n",
       "      <th>text</th>\n",
       "      <th>tweet_id</th>\n",
       "      <th>identification</th>\n",
       "    </tr>\n",
       "  </thead>\n",
       "  <tbody>\n",
       "    <tr>\n",
       "      <th>0</th>\n",
       "      <td>391</td>\n",
       "      <td>hashtag_tweets</td>\n",
       "      <td>{'tweet': {'hashtags': ['Snapchat'], 'tweet_id...</td>\n",
       "      <td>2015-05-23 11:42:47</td>\n",
       "      <td>tweets</td>\n",
       "      <td>People who post \"add me on #Snapchat\" must be ...</td>\n",
       "      <td>0x376b20</td>\n",
       "      <td>train</td>\n",
       "    </tr>\n",
       "    <tr>\n",
       "      <th>1</th>\n",
       "      <td>433</td>\n",
       "      <td>hashtag_tweets</td>\n",
       "      <td>{'tweet': {'hashtags': ['freepress', 'TrumpLeg...</td>\n",
       "      <td>2016-01-28 04:52:09</td>\n",
       "      <td>tweets</td>\n",
       "      <td>@brianklaas As we see, Trump is dangerous to #...</td>\n",
       "      <td>0x2d5350</td>\n",
       "      <td>train</td>\n",
       "    </tr>\n",
       "    <tr>\n",
       "      <th>3</th>\n",
       "      <td>376</td>\n",
       "      <td>hashtag_tweets</td>\n",
       "      <td>{'tweet': {'hashtags': [], 'tweet_id': '0x1cd5...</td>\n",
       "      <td>2016-01-24 23:53:05</td>\n",
       "      <td>tweets</td>\n",
       "      <td>Now ISSA is stalking Tasha 😂😂😂 &lt;LH&gt;</td>\n",
       "      <td>0x1cd5b0</td>\n",
       "      <td>train</td>\n",
       "    </tr>\n",
       "    <tr>\n",
       "      <th>5</th>\n",
       "      <td>120</td>\n",
       "      <td>hashtag_tweets</td>\n",
       "      <td>{'tweet': {'hashtags': ['authentic', 'LaughOut...</td>\n",
       "      <td>2015-06-11 04:44:05</td>\n",
       "      <td>tweets</td>\n",
       "      <td>@RISKshow @TheKevinAllison Thx for the BEST TI...</td>\n",
       "      <td>0x1d755c</td>\n",
       "      <td>train</td>\n",
       "    </tr>\n",
       "    <tr>\n",
       "      <th>6</th>\n",
       "      <td>1021</td>\n",
       "      <td>hashtag_tweets</td>\n",
       "      <td>{'tweet': {'hashtags': [], 'tweet_id': '0x2c91...</td>\n",
       "      <td>2015-08-18 02:30:07</td>\n",
       "      <td>tweets</td>\n",
       "      <td>Still waiting on those supplies Liscus. &lt;LH&gt;</td>\n",
       "      <td>0x2c91a8</td>\n",
       "      <td>train</td>\n",
       "    </tr>\n",
       "    <tr>\n",
       "      <th>...</th>\n",
       "      <td>...</td>\n",
       "      <td>...</td>\n",
       "      <td>...</td>\n",
       "      <td>...</td>\n",
       "      <td>...</td>\n",
       "      <td>...</td>\n",
       "      <td>...</td>\n",
       "      <td>...</td>\n",
       "    </tr>\n",
       "    <tr>\n",
       "      <th>1867526</th>\n",
       "      <td>94</td>\n",
       "      <td>hashtag_tweets</td>\n",
       "      <td>{'tweet': {'hashtags': ['NoWonder', 'Happy'], ...</td>\n",
       "      <td>2016-12-26 02:44:07</td>\n",
       "      <td>tweets</td>\n",
       "      <td>I'm SO HAPPY!!! #NoWonder the name of this sho...</td>\n",
       "      <td>0x321566</td>\n",
       "      <td>train</td>\n",
       "    </tr>\n",
       "    <tr>\n",
       "      <th>1867527</th>\n",
       "      <td>627</td>\n",
       "      <td>hashtag_tweets</td>\n",
       "      <td>{'tweet': {'hashtags': [], 'tweet_id': '0x3895...</td>\n",
       "      <td>2015-04-01 08:14:56</td>\n",
       "      <td>tweets</td>\n",
       "      <td>In every circumtance I'd like to be thankful t...</td>\n",
       "      <td>0x38959e</td>\n",
       "      <td>train</td>\n",
       "    </tr>\n",
       "    <tr>\n",
       "      <th>1867528</th>\n",
       "      <td>274</td>\n",
       "      <td>hashtag_tweets</td>\n",
       "      <td>{'tweet': {'hashtags': ['blessyou'], 'tweet_id...</td>\n",
       "      <td>2016-11-17 23:46:22</td>\n",
       "      <td>tweets</td>\n",
       "      <td>there's currently two girls walking around the...</td>\n",
       "      <td>0x2cbca6</td>\n",
       "      <td>train</td>\n",
       "    </tr>\n",
       "    <tr>\n",
       "      <th>1867533</th>\n",
       "      <td>840</td>\n",
       "      <td>hashtag_tweets</td>\n",
       "      <td>{'tweet': {'hashtags': [], 'tweet_id': '0x24fa...</td>\n",
       "      <td>2016-09-02 14:25:06</td>\n",
       "      <td>tweets</td>\n",
       "      <td>Ah, corporate life, where you can date &lt;LH&gt; us...</td>\n",
       "      <td>0x24faed</td>\n",
       "      <td>train</td>\n",
       "    </tr>\n",
       "    <tr>\n",
       "      <th>1867534</th>\n",
       "      <td>360</td>\n",
       "      <td>hashtag_tweets</td>\n",
       "      <td>{'tweet': {'hashtags': ['Sundayvibes'], 'tweet...</td>\n",
       "      <td>2016-11-16 01:40:07</td>\n",
       "      <td>tweets</td>\n",
       "      <td>Blessed to be living #Sundayvibes &lt;LH&gt;</td>\n",
       "      <td>0x34be8c</td>\n",
       "      <td>train</td>\n",
       "    </tr>\n",
       "  </tbody>\n",
       "</table>\n",
       "<p>1455563 rows × 8 columns</p>\n",
       "</div>"
      ],
      "text/plain": [
       "         _score          _index  \\\n",
       "0           391  hashtag_tweets   \n",
       "1           433  hashtag_tweets   \n",
       "3           376  hashtag_tweets   \n",
       "5           120  hashtag_tweets   \n",
       "6          1021  hashtag_tweets   \n",
       "...         ...             ...   \n",
       "1867526      94  hashtag_tweets   \n",
       "1867527     627  hashtag_tweets   \n",
       "1867528     274  hashtag_tweets   \n",
       "1867533     840  hashtag_tweets   \n",
       "1867534     360  hashtag_tweets   \n",
       "\n",
       "                                                   _source  \\\n",
       "0        {'tweet': {'hashtags': ['Snapchat'], 'tweet_id...   \n",
       "1        {'tweet': {'hashtags': ['freepress', 'TrumpLeg...   \n",
       "3        {'tweet': {'hashtags': [], 'tweet_id': '0x1cd5...   \n",
       "5        {'tweet': {'hashtags': ['authentic', 'LaughOut...   \n",
       "6        {'tweet': {'hashtags': [], 'tweet_id': '0x2c91...   \n",
       "...                                                    ...   \n",
       "1867526  {'tweet': {'hashtags': ['NoWonder', 'Happy'], ...   \n",
       "1867527  {'tweet': {'hashtags': [], 'tweet_id': '0x3895...   \n",
       "1867528  {'tweet': {'hashtags': ['blessyou'], 'tweet_id...   \n",
       "1867533  {'tweet': {'hashtags': [], 'tweet_id': '0x24fa...   \n",
       "1867534  {'tweet': {'hashtags': ['Sundayvibes'], 'tweet...   \n",
       "\n",
       "                  _crawldate   _type  \\\n",
       "0        2015-05-23 11:42:47  tweets   \n",
       "1        2016-01-28 04:52:09  tweets   \n",
       "3        2016-01-24 23:53:05  tweets   \n",
       "5        2015-06-11 04:44:05  tweets   \n",
       "6        2015-08-18 02:30:07  tweets   \n",
       "...                      ...     ...   \n",
       "1867526  2016-12-26 02:44:07  tweets   \n",
       "1867527  2015-04-01 08:14:56  tweets   \n",
       "1867528  2016-11-17 23:46:22  tweets   \n",
       "1867533  2016-09-02 14:25:06  tweets   \n",
       "1867534  2016-11-16 01:40:07  tweets   \n",
       "\n",
       "                                                      text  tweet_id  \\\n",
       "0        People who post \"add me on #Snapchat\" must be ...  0x376b20   \n",
       "1        @brianklaas As we see, Trump is dangerous to #...  0x2d5350   \n",
       "3                      Now ISSA is stalking Tasha 😂😂😂 <LH>  0x1cd5b0   \n",
       "5        @RISKshow @TheKevinAllison Thx for the BEST TI...  0x1d755c   \n",
       "6             Still waiting on those supplies Liscus. <LH>  0x2c91a8   \n",
       "...                                                    ...       ...   \n",
       "1867526  I'm SO HAPPY!!! #NoWonder the name of this sho...  0x321566   \n",
       "1867527  In every circumtance I'd like to be thankful t...  0x38959e   \n",
       "1867528  there's currently two girls walking around the...  0x2cbca6   \n",
       "1867533  Ah, corporate life, where you can date <LH> us...  0x24faed   \n",
       "1867534             Blessed to be living #Sundayvibes <LH>  0x34be8c   \n",
       "\n",
       "        identification  \n",
       "0                train  \n",
       "1                train  \n",
       "3                train  \n",
       "5                train  \n",
       "6                train  \n",
       "...                ...  \n",
       "1867526          train  \n",
       "1867527          train  \n",
       "1867528          train  \n",
       "1867533          train  \n",
       "1867534          train  \n",
       "\n",
       "[1455563 rows x 8 columns]"
      ]
     },
     "execution_count": 50,
     "metadata": {},
     "output_type": "execute_result"
    }
   ],
   "source": [
    "#split train dataset and test dataset by identiication\n",
    "group = data.groupby('identification')\n",
    "\n",
    "train = group.get_group('train')\n",
    "test = group.get_group('test')\n",
    "train"
   ]
  },
  {
   "cell_type": "code",
   "execution_count": 52,
   "metadata": {},
   "outputs": [
    {
     "data": {
      "text/html": [
       "<div>\n",
       "<style scoped>\n",
       "    .dataframe tbody tr th:only-of-type {\n",
       "        vertical-align: middle;\n",
       "    }\n",
       "\n",
       "    .dataframe tbody tr th {\n",
       "        vertical-align: top;\n",
       "    }\n",
       "\n",
       "    .dataframe thead th {\n",
       "        text-align: right;\n",
       "    }\n",
       "</style>\n",
       "<table border=\"1\" class=\"dataframe\">\n",
       "  <thead>\n",
       "    <tr style=\"text-align: right;\">\n",
       "      <th></th>\n",
       "      <th>_score</th>\n",
       "      <th>_index</th>\n",
       "      <th>_source</th>\n",
       "      <th>_crawldate</th>\n",
       "      <th>_type</th>\n",
       "      <th>text</th>\n",
       "      <th>tweet_id</th>\n",
       "      <th>identification</th>\n",
       "      <th>emotion</th>\n",
       "    </tr>\n",
       "  </thead>\n",
       "  <tbody>\n",
       "    <tr>\n",
       "      <th>0</th>\n",
       "      <td>391</td>\n",
       "      <td>hashtag_tweets</td>\n",
       "      <td>{'tweet': {'hashtags': ['Snapchat'], 'tweet_id...</td>\n",
       "      <td>2015-05-23 11:42:47</td>\n",
       "      <td>tweets</td>\n",
       "      <td>People who post \"add me on #Snapchat\" must be ...</td>\n",
       "      <td>0x376b20</td>\n",
       "      <td>train</td>\n",
       "      <td>anticipation</td>\n",
       "    </tr>\n",
       "    <tr>\n",
       "      <th>1</th>\n",
       "      <td>433</td>\n",
       "      <td>hashtag_tweets</td>\n",
       "      <td>{'tweet': {'hashtags': ['freepress', 'TrumpLeg...</td>\n",
       "      <td>2016-01-28 04:52:09</td>\n",
       "      <td>tweets</td>\n",
       "      <td>@brianklaas As we see, Trump is dangerous to #...</td>\n",
       "      <td>0x2d5350</td>\n",
       "      <td>train</td>\n",
       "      <td>sadness</td>\n",
       "    </tr>\n",
       "    <tr>\n",
       "      <th>2</th>\n",
       "      <td>376</td>\n",
       "      <td>hashtag_tweets</td>\n",
       "      <td>{'tweet': {'hashtags': [], 'tweet_id': '0x1cd5...</td>\n",
       "      <td>2016-01-24 23:53:05</td>\n",
       "      <td>tweets</td>\n",
       "      <td>Now ISSA is stalking Tasha 😂😂😂 &lt;LH&gt;</td>\n",
       "      <td>0x1cd5b0</td>\n",
       "      <td>train</td>\n",
       "      <td>fear</td>\n",
       "    </tr>\n",
       "    <tr>\n",
       "      <th>3</th>\n",
       "      <td>120</td>\n",
       "      <td>hashtag_tweets</td>\n",
       "      <td>{'tweet': {'hashtags': ['authentic', 'LaughOut...</td>\n",
       "      <td>2015-06-11 04:44:05</td>\n",
       "      <td>tweets</td>\n",
       "      <td>@RISKshow @TheKevinAllison Thx for the BEST TI...</td>\n",
       "      <td>0x1d755c</td>\n",
       "      <td>train</td>\n",
       "      <td>joy</td>\n",
       "    </tr>\n",
       "    <tr>\n",
       "      <th>4</th>\n",
       "      <td>1021</td>\n",
       "      <td>hashtag_tweets</td>\n",
       "      <td>{'tweet': {'hashtags': [], 'tweet_id': '0x2c91...</td>\n",
       "      <td>2015-08-18 02:30:07</td>\n",
       "      <td>tweets</td>\n",
       "      <td>Still waiting on those supplies Liscus. &lt;LH&gt;</td>\n",
       "      <td>0x2c91a8</td>\n",
       "      <td>train</td>\n",
       "      <td>anticipation</td>\n",
       "    </tr>\n",
       "    <tr>\n",
       "      <th>...</th>\n",
       "      <td>...</td>\n",
       "      <td>...</td>\n",
       "      <td>...</td>\n",
       "      <td>...</td>\n",
       "      <td>...</td>\n",
       "      <td>...</td>\n",
       "      <td>...</td>\n",
       "      <td>...</td>\n",
       "      <td>...</td>\n",
       "    </tr>\n",
       "    <tr>\n",
       "      <th>1455558</th>\n",
       "      <td>94</td>\n",
       "      <td>hashtag_tweets</td>\n",
       "      <td>{'tweet': {'hashtags': ['NoWonder', 'Happy'], ...</td>\n",
       "      <td>2016-12-26 02:44:07</td>\n",
       "      <td>tweets</td>\n",
       "      <td>I'm SO HAPPY!!! #NoWonder the name of this sho...</td>\n",
       "      <td>0x321566</td>\n",
       "      <td>train</td>\n",
       "      <td>joy</td>\n",
       "    </tr>\n",
       "    <tr>\n",
       "      <th>1455559</th>\n",
       "      <td>627</td>\n",
       "      <td>hashtag_tweets</td>\n",
       "      <td>{'tweet': {'hashtags': [], 'tweet_id': '0x3895...</td>\n",
       "      <td>2015-04-01 08:14:56</td>\n",
       "      <td>tweets</td>\n",
       "      <td>In every circumtance I'd like to be thankful t...</td>\n",
       "      <td>0x38959e</td>\n",
       "      <td>train</td>\n",
       "      <td>joy</td>\n",
       "    </tr>\n",
       "    <tr>\n",
       "      <th>1455560</th>\n",
       "      <td>274</td>\n",
       "      <td>hashtag_tweets</td>\n",
       "      <td>{'tweet': {'hashtags': ['blessyou'], 'tweet_id...</td>\n",
       "      <td>2016-11-17 23:46:22</td>\n",
       "      <td>tweets</td>\n",
       "      <td>there's currently two girls walking around the...</td>\n",
       "      <td>0x2cbca6</td>\n",
       "      <td>train</td>\n",
       "      <td>joy</td>\n",
       "    </tr>\n",
       "    <tr>\n",
       "      <th>1455561</th>\n",
       "      <td>840</td>\n",
       "      <td>hashtag_tweets</td>\n",
       "      <td>{'tweet': {'hashtags': [], 'tweet_id': '0x24fa...</td>\n",
       "      <td>2016-09-02 14:25:06</td>\n",
       "      <td>tweets</td>\n",
       "      <td>Ah, corporate life, where you can date &lt;LH&gt; us...</td>\n",
       "      <td>0x24faed</td>\n",
       "      <td>train</td>\n",
       "      <td>joy</td>\n",
       "    </tr>\n",
       "    <tr>\n",
       "      <th>1455562</th>\n",
       "      <td>360</td>\n",
       "      <td>hashtag_tweets</td>\n",
       "      <td>{'tweet': {'hashtags': ['Sundayvibes'], 'tweet...</td>\n",
       "      <td>2016-11-16 01:40:07</td>\n",
       "      <td>tweets</td>\n",
       "      <td>Blessed to be living #Sundayvibes &lt;LH&gt;</td>\n",
       "      <td>0x34be8c</td>\n",
       "      <td>train</td>\n",
       "      <td>joy</td>\n",
       "    </tr>\n",
       "  </tbody>\n",
       "</table>\n",
       "<p>1455563 rows × 9 columns</p>\n",
       "</div>"
      ],
      "text/plain": [
       "         _score          _index  \\\n",
       "0           391  hashtag_tweets   \n",
       "1           433  hashtag_tweets   \n",
       "2           376  hashtag_tweets   \n",
       "3           120  hashtag_tweets   \n",
       "4          1021  hashtag_tweets   \n",
       "...         ...             ...   \n",
       "1455558      94  hashtag_tweets   \n",
       "1455559     627  hashtag_tweets   \n",
       "1455560     274  hashtag_tweets   \n",
       "1455561     840  hashtag_tweets   \n",
       "1455562     360  hashtag_tweets   \n",
       "\n",
       "                                                   _source  \\\n",
       "0        {'tweet': {'hashtags': ['Snapchat'], 'tweet_id...   \n",
       "1        {'tweet': {'hashtags': ['freepress', 'TrumpLeg...   \n",
       "2        {'tweet': {'hashtags': [], 'tweet_id': '0x1cd5...   \n",
       "3        {'tweet': {'hashtags': ['authentic', 'LaughOut...   \n",
       "4        {'tweet': {'hashtags': [], 'tweet_id': '0x2c91...   \n",
       "...                                                    ...   \n",
       "1455558  {'tweet': {'hashtags': ['NoWonder', 'Happy'], ...   \n",
       "1455559  {'tweet': {'hashtags': [], 'tweet_id': '0x3895...   \n",
       "1455560  {'tweet': {'hashtags': ['blessyou'], 'tweet_id...   \n",
       "1455561  {'tweet': {'hashtags': [], 'tweet_id': '0x24fa...   \n",
       "1455562  {'tweet': {'hashtags': ['Sundayvibes'], 'tweet...   \n",
       "\n",
       "                  _crawldate   _type  \\\n",
       "0        2015-05-23 11:42:47  tweets   \n",
       "1        2016-01-28 04:52:09  tweets   \n",
       "2        2016-01-24 23:53:05  tweets   \n",
       "3        2015-06-11 04:44:05  tweets   \n",
       "4        2015-08-18 02:30:07  tweets   \n",
       "...                      ...     ...   \n",
       "1455558  2016-12-26 02:44:07  tweets   \n",
       "1455559  2015-04-01 08:14:56  tweets   \n",
       "1455560  2016-11-17 23:46:22  tweets   \n",
       "1455561  2016-09-02 14:25:06  tweets   \n",
       "1455562  2016-11-16 01:40:07  tweets   \n",
       "\n",
       "                                                      text  tweet_id  \\\n",
       "0        People who post \"add me on #Snapchat\" must be ...  0x376b20   \n",
       "1        @brianklaas As we see, Trump is dangerous to #...  0x2d5350   \n",
       "2                      Now ISSA is stalking Tasha 😂😂😂 <LH>  0x1cd5b0   \n",
       "3        @RISKshow @TheKevinAllison Thx for the BEST TI...  0x1d755c   \n",
       "4             Still waiting on those supplies Liscus. <LH>  0x2c91a8   \n",
       "...                                                    ...       ...   \n",
       "1455558  I'm SO HAPPY!!! #NoWonder the name of this sho...  0x321566   \n",
       "1455559  In every circumtance I'd like to be thankful t...  0x38959e   \n",
       "1455560  there's currently two girls walking around the...  0x2cbca6   \n",
       "1455561  Ah, corporate life, where you can date <LH> us...  0x24faed   \n",
       "1455562             Blessed to be living #Sundayvibes <LH>  0x34be8c   \n",
       "\n",
       "        identification       emotion  \n",
       "0                train  anticipation  \n",
       "1                train       sadness  \n",
       "2                train          fear  \n",
       "3                train           joy  \n",
       "4                train  anticipation  \n",
       "...                ...           ...  \n",
       "1455558          train           joy  \n",
       "1455559          train           joy  \n",
       "1455560          train           joy  \n",
       "1455561          train           joy  \n",
       "1455562          train           joy  \n",
       "\n",
       "[1455563 rows x 9 columns]"
      ]
     },
     "execution_count": 52,
     "metadata": {},
     "output_type": "execute_result"
    }
   ],
   "source": [
    "#read the final dataset\n",
    "emotion = pd.read_csv('../../dm2023-isa5810-lab2-homework/emotion.csv')\n",
    "\n",
    "#conbine the third dataset with training data because training data has label and test data don't\n",
    "train_data = pd.merge(train,emotion,how='inner')\n",
    "train_data"
   ]
  },
  {
   "cell_type": "code",
   "execution_count": 53,
   "metadata": {},
   "outputs": [
    {
     "data": {
      "text/plain": [
       "0          People who post \"add me on #Snapchat\" must be ...\n",
       "1          @brianklaas As we see, Trump is dangerous to #...\n",
       "2                        Now ISSA is stalking Tasha 😂😂😂 <LH>\n",
       "3          @RISKshow @TheKevinAllison Thx for the BEST TI...\n",
       "4               Still waiting on those supplies Liscus. <LH>\n",
       "                                 ...                        \n",
       "1455558    I'm SO HAPPY!!! #NoWonder the name of this sho...\n",
       "1455559    In every circumtance I'd like to be thankful t...\n",
       "1455560    there's currently two girls walking around the...\n",
       "1455561    Ah, corporate life, where you can date <LH> us...\n",
       "1455562               Blessed to be living #Sundayvibes <LH>\n",
       "Name: text, Length: 1451778, dtype: object"
      ]
     },
     "execution_count": 53,
     "metadata": {},
     "output_type": "execute_result"
    }
   ],
   "source": [
    "#clean the duplicating data\n",
    "new_train = train_data['text'].drop_duplicates()\n",
    "new_train"
   ]
  },
  {
   "cell_type": "markdown",
   "metadata": {},
   "source": [
    "##### 1.2 data preprocessing"
   ]
  },
  {
   "cell_type": "markdown",
   "metadata": {},
   "source": [
    "#### stop words\n",
    "Stop words are a set of commonly used words in any language. For example, in English, “the”, “is” and “and”, would easily qualify as stop words. In NLP and text mining applications, stop words are used to eliminate unimportant words, allowing applications to focus on the important words instead.\n",
    "\n",
    "#### stemming\n",
    "Stemming is the process of reducing inflection towards the base-root form. All the words are having their root-base form, which can be used in different version according to tenses"
   ]
  },
  {
   "cell_type": "code",
   "execution_count": 54,
   "metadata": {},
   "outputs": [],
   "source": [
    "import nltk\n",
    "import re\n",
    "# nltk.download('stopwords')\n",
    "from nltk.stem.snowball import SnowballStemmer\n",
    "from nltk.corpus import stopwords\n",
    "from nltk.stem import WordNetLemmatizer\n",
    "#download stop words and set stop words and stemmer\n",
    "\n",
    "# nltk.download('stopwords')\n",
    "# nltk.download('wordnet')\n",
    "\n",
    "stop_words = (stopwords.words('english'))\n",
    "stemmer = SnowballStemmer('english')"
   ]
  },
  {
   "cell_type": "code",
   "execution_count": 55,
   "metadata": {},
   "outputs": [],
   "source": [
    "\n",
    "\n",
    "def clean_and_preprocess(text):\n",
    "#remove words that cause confusion\n",
    "    text = re.sub(r'@[A-Za-z0-9_]+', '', text)\n",
    "    text = re.sub(r'http\\S+', '', text)\n",
    "    text = re.sub(r'\\s*@\\w+', '', text)\n",
    "    text = re.sub(r'\\s*\\B@\\w+', '', text)\n",
    "    text = re.sub(r'\\s*@\\S+', '', text)\n",
    "    text = re.sub(r'\\s*@\\S+\\b', '', text)\n",
    "    text = re.sub(r'<LH>', '', text)\n",
    "\n",
    "#when training model, uppercase and lowercase be considered as distinct words\n",
    "    words = text.lower().split()\n",
    "\n",
    "#stemming\n",
    "    words = [stemmer.stem(word) for word in words if word not in stop_words]\n",
    "    return ' '.join(words)"
   ]
  },
  {
   "cell_type": "code",
   "execution_count": 56,
   "metadata": {},
   "outputs": [
    {
     "name": "stderr",
     "output_type": "stream",
     "text": [
      "C:\\Users\\530\\AppData\\Local\\Temp\\ipykernel_8448\\4148257826.py:2: SettingWithCopyWarning: \n",
      "A value is trying to be set on a copy of a slice from a DataFrame.\n",
      "Try using .loc[row_indexer,col_indexer] = value instead\n",
      "\n",
      "See the caveats in the documentation: https://pandas.pydata.org/pandas-docs/stable/user_guide/indexing.html#returning-a-view-versus-a-copy\n",
      "  test['text'] = test['text'].apply(clean_and_preprocess)\n"
     ]
    },
    {
     "data": {
      "text/html": [
       "<div>\n",
       "<style scoped>\n",
       "    .dataframe tbody tr th:only-of-type {\n",
       "        vertical-align: middle;\n",
       "    }\n",
       "\n",
       "    .dataframe tbody tr th {\n",
       "        vertical-align: top;\n",
       "    }\n",
       "\n",
       "    .dataframe thead th {\n",
       "        text-align: right;\n",
       "    }\n",
       "</style>\n",
       "<table border=\"1\" class=\"dataframe\">\n",
       "  <thead>\n",
       "    <tr style=\"text-align: right;\">\n",
       "      <th></th>\n",
       "      <th>_score</th>\n",
       "      <th>_index</th>\n",
       "      <th>_source</th>\n",
       "      <th>_crawldate</th>\n",
       "      <th>_type</th>\n",
       "      <th>text</th>\n",
       "      <th>tweet_id</th>\n",
       "      <th>identification</th>\n",
       "      <th>emotion</th>\n",
       "    </tr>\n",
       "  </thead>\n",
       "  <tbody>\n",
       "    <tr>\n",
       "      <th>0</th>\n",
       "      <td>391</td>\n",
       "      <td>hashtag_tweets</td>\n",
       "      <td>{'tweet': {'hashtags': ['Snapchat'], 'tweet_id...</td>\n",
       "      <td>2015-05-23 11:42:47</td>\n",
       "      <td>tweets</td>\n",
       "      <td>peopl post \"add #snapchat\" must dehydrated. cu...</td>\n",
       "      <td>0x376b20</td>\n",
       "      <td>train</td>\n",
       "      <td>anticipation</td>\n",
       "    </tr>\n",
       "    <tr>\n",
       "      <th>1</th>\n",
       "      <td>433</td>\n",
       "      <td>hashtag_tweets</td>\n",
       "      <td>{'tweet': {'hashtags': ['freepress', 'TrumpLeg...</td>\n",
       "      <td>2016-01-28 04:52:09</td>\n",
       "      <td>tweets</td>\n",
       "      <td>see, trump danger #freepress around world. #tr...</td>\n",
       "      <td>0x2d5350</td>\n",
       "      <td>train</td>\n",
       "      <td>sadness</td>\n",
       "    </tr>\n",
       "    <tr>\n",
       "      <th>2</th>\n",
       "      <td>376</td>\n",
       "      <td>hashtag_tweets</td>\n",
       "      <td>{'tweet': {'hashtags': [], 'tweet_id': '0x1cd5...</td>\n",
       "      <td>2016-01-24 23:53:05</td>\n",
       "      <td>tweets</td>\n",
       "      <td>issa stalk tasha 😂😂😂</td>\n",
       "      <td>0x1cd5b0</td>\n",
       "      <td>train</td>\n",
       "      <td>fear</td>\n",
       "    </tr>\n",
       "    <tr>\n",
       "      <th>3</th>\n",
       "      <td>120</td>\n",
       "      <td>hashtag_tweets</td>\n",
       "      <td>{'tweet': {'hashtags': ['authentic', 'LaughOut...</td>\n",
       "      <td>2015-06-11 04:44:05</td>\n",
       "      <td>tweets</td>\n",
       "      <td>thx best time tonight. stories! heartbreak #au...</td>\n",
       "      <td>0x1d755c</td>\n",
       "      <td>train</td>\n",
       "      <td>joy</td>\n",
       "    </tr>\n",
       "    <tr>\n",
       "      <th>4</th>\n",
       "      <td>1021</td>\n",
       "      <td>hashtag_tweets</td>\n",
       "      <td>{'tweet': {'hashtags': [], 'tweet_id': '0x2c91...</td>\n",
       "      <td>2015-08-18 02:30:07</td>\n",
       "      <td>tweets</td>\n",
       "      <td>still wait suppli liscus.</td>\n",
       "      <td>0x2c91a8</td>\n",
       "      <td>train</td>\n",
       "      <td>anticipation</td>\n",
       "    </tr>\n",
       "    <tr>\n",
       "      <th>...</th>\n",
       "      <td>...</td>\n",
       "      <td>...</td>\n",
       "      <td>...</td>\n",
       "      <td>...</td>\n",
       "      <td>...</td>\n",
       "      <td>...</td>\n",
       "      <td>...</td>\n",
       "      <td>...</td>\n",
       "      <td>...</td>\n",
       "    </tr>\n",
       "    <tr>\n",
       "      <th>1455558</th>\n",
       "      <td>94</td>\n",
       "      <td>hashtag_tweets</td>\n",
       "      <td>{'tweet': {'hashtags': ['NoWonder', 'Happy'], ...</td>\n",
       "      <td>2016-12-26 02:44:07</td>\n",
       "      <td>tweets</td>\n",
       "      <td>i'm happy!!! #nowond name show! #happy! 👏👏👏👏👏</td>\n",
       "      <td>0x321566</td>\n",
       "      <td>train</td>\n",
       "      <td>joy</td>\n",
       "    </tr>\n",
       "    <tr>\n",
       "      <th>1455559</th>\n",
       "      <td>627</td>\n",
       "      <td>hashtag_tweets</td>\n",
       "      <td>{'tweet': {'hashtags': [], 'tweet_id': '0x3895...</td>\n",
       "      <td>2015-04-01 08:14:56</td>\n",
       "      <td>tweets</td>\n",
       "      <td>everi circumt i'd like thank almighti jesus ch...</td>\n",
       "      <td>0x38959e</td>\n",
       "      <td>train</td>\n",
       "      <td>joy</td>\n",
       "    </tr>\n",
       "    <tr>\n",
       "      <th>1455560</th>\n",
       "      <td>274</td>\n",
       "      <td>hashtag_tweets</td>\n",
       "      <td>{'tweet': {'hashtags': ['blessyou'], 'tweet_id...</td>\n",
       "      <td>2016-11-17 23:46:22</td>\n",
       "      <td>tweets</td>\n",
       "      <td>there current two girl walk around librari han...</td>\n",
       "      <td>0x2cbca6</td>\n",
       "      <td>train</td>\n",
       "      <td>joy</td>\n",
       "    </tr>\n",
       "    <tr>\n",
       "      <th>1455561</th>\n",
       "      <td>840</td>\n",
       "      <td>hashtag_tweets</td>\n",
       "      <td>{'tweet': {'hashtags': [], 'tweet_id': '0x24fa...</td>\n",
       "      <td>2016-09-02 14:25:06</td>\n",
       "      <td>tweets</td>\n",
       "      <td>ah, corpor life, date use relat anachron last ...</td>\n",
       "      <td>0x24faed</td>\n",
       "      <td>train</td>\n",
       "      <td>joy</td>\n",
       "    </tr>\n",
       "    <tr>\n",
       "      <th>1455562</th>\n",
       "      <td>360</td>\n",
       "      <td>hashtag_tweets</td>\n",
       "      <td>{'tweet': {'hashtags': ['Sundayvibes'], 'tweet...</td>\n",
       "      <td>2016-11-16 01:40:07</td>\n",
       "      <td>tweets</td>\n",
       "      <td>bless live #sundayvib</td>\n",
       "      <td>0x34be8c</td>\n",
       "      <td>train</td>\n",
       "      <td>joy</td>\n",
       "    </tr>\n",
       "  </tbody>\n",
       "</table>\n",
       "<p>1455563 rows × 9 columns</p>\n",
       "</div>"
      ],
      "text/plain": [
       "         _score          _index  \\\n",
       "0           391  hashtag_tweets   \n",
       "1           433  hashtag_tweets   \n",
       "2           376  hashtag_tweets   \n",
       "3           120  hashtag_tweets   \n",
       "4          1021  hashtag_tweets   \n",
       "...         ...             ...   \n",
       "1455558      94  hashtag_tweets   \n",
       "1455559     627  hashtag_tweets   \n",
       "1455560     274  hashtag_tweets   \n",
       "1455561     840  hashtag_tweets   \n",
       "1455562     360  hashtag_tweets   \n",
       "\n",
       "                                                   _source  \\\n",
       "0        {'tweet': {'hashtags': ['Snapchat'], 'tweet_id...   \n",
       "1        {'tweet': {'hashtags': ['freepress', 'TrumpLeg...   \n",
       "2        {'tweet': {'hashtags': [], 'tweet_id': '0x1cd5...   \n",
       "3        {'tweet': {'hashtags': ['authentic', 'LaughOut...   \n",
       "4        {'tweet': {'hashtags': [], 'tweet_id': '0x2c91...   \n",
       "...                                                    ...   \n",
       "1455558  {'tweet': {'hashtags': ['NoWonder', 'Happy'], ...   \n",
       "1455559  {'tweet': {'hashtags': [], 'tweet_id': '0x3895...   \n",
       "1455560  {'tweet': {'hashtags': ['blessyou'], 'tweet_id...   \n",
       "1455561  {'tweet': {'hashtags': [], 'tweet_id': '0x24fa...   \n",
       "1455562  {'tweet': {'hashtags': ['Sundayvibes'], 'tweet...   \n",
       "\n",
       "                  _crawldate   _type  \\\n",
       "0        2015-05-23 11:42:47  tweets   \n",
       "1        2016-01-28 04:52:09  tweets   \n",
       "2        2016-01-24 23:53:05  tweets   \n",
       "3        2015-06-11 04:44:05  tweets   \n",
       "4        2015-08-18 02:30:07  tweets   \n",
       "...                      ...     ...   \n",
       "1455558  2016-12-26 02:44:07  tweets   \n",
       "1455559  2015-04-01 08:14:56  tweets   \n",
       "1455560  2016-11-17 23:46:22  tweets   \n",
       "1455561  2016-09-02 14:25:06  tweets   \n",
       "1455562  2016-11-16 01:40:07  tweets   \n",
       "\n",
       "                                                      text  tweet_id  \\\n",
       "0        peopl post \"add #snapchat\" must dehydrated. cu...  0x376b20   \n",
       "1        see, trump danger #freepress around world. #tr...  0x2d5350   \n",
       "2                                     issa stalk tasha 😂😂😂  0x1cd5b0   \n",
       "3        thx best time tonight. stories! heartbreak #au...  0x1d755c   \n",
       "4                                still wait suppli liscus.  0x2c91a8   \n",
       "...                                                    ...       ...   \n",
       "1455558      i'm happy!!! #nowond name show! #happy! 👏👏👏👏👏  0x321566   \n",
       "1455559  everi circumt i'd like thank almighti jesus ch...  0x38959e   \n",
       "1455560  there current two girl walk around librari han...  0x2cbca6   \n",
       "1455561  ah, corpor life, date use relat anachron last ...  0x24faed   \n",
       "1455562                              bless live #sundayvib  0x34be8c   \n",
       "\n",
       "        identification       emotion  \n",
       "0                train  anticipation  \n",
       "1                train       sadness  \n",
       "2                train          fear  \n",
       "3                train           joy  \n",
       "4                train  anticipation  \n",
       "...                ...           ...  \n",
       "1455558          train           joy  \n",
       "1455559          train           joy  \n",
       "1455560          train           joy  \n",
       "1455561          train           joy  \n",
       "1455562          train           joy  \n",
       "\n",
       "[1455563 rows x 9 columns]"
      ]
     },
     "execution_count": 56,
     "metadata": {},
     "output_type": "execute_result"
    }
   ],
   "source": [
    "#clean and preprocess data\n",
    "train_data['text'] = train_data['text'].apply(clean_and_preprocess)\n",
    "test['text'] = test['text'].apply(clean_and_preprocess)\n",
    "train_data"
   ]
  },
  {
   "cell_type": "code",
   "execution_count": 57,
   "metadata": {},
   "outputs": [
    {
     "data": {
      "text/html": [
       "<div>\n",
       "<style scoped>\n",
       "    .dataframe tbody tr th:only-of-type {\n",
       "        vertical-align: middle;\n",
       "    }\n",
       "\n",
       "    .dataframe tbody tr th {\n",
       "        vertical-align: top;\n",
       "    }\n",
       "\n",
       "    .dataframe thead th {\n",
       "        text-align: right;\n",
       "    }\n",
       "</style>\n",
       "<table border=\"1\" class=\"dataframe\">\n",
       "  <thead>\n",
       "    <tr style=\"text-align: right;\">\n",
       "      <th></th>\n",
       "      <th>_score</th>\n",
       "      <th>_index</th>\n",
       "      <th>_source</th>\n",
       "      <th>_crawldate</th>\n",
       "      <th>_type</th>\n",
       "      <th>text</th>\n",
       "      <th>tweet_id</th>\n",
       "      <th>identification</th>\n",
       "    </tr>\n",
       "  </thead>\n",
       "  <tbody>\n",
       "    <tr>\n",
       "      <th>2</th>\n",
       "      <td>232</td>\n",
       "      <td>hashtag_tweets</td>\n",
       "      <td>{'tweet': {'hashtags': ['bibleverse'], 'tweet_...</td>\n",
       "      <td>2017-12-25 04:39:20</td>\n",
       "      <td>tweets</td>\n",
       "      <td>confid obedience, write you, know even ask. (p...</td>\n",
       "      <td>0x28b412</td>\n",
       "      <td>test</td>\n",
       "    </tr>\n",
       "    <tr>\n",
       "      <th>4</th>\n",
       "      <td>989</td>\n",
       "      <td>hashtag_tweets</td>\n",
       "      <td>{'tweet': {'hashtags': [], 'tweet_id': '0x2de2...</td>\n",
       "      <td>2016-01-08 17:18:59</td>\n",
       "      <td>tweets</td>\n",
       "      <td>\"trust faith. friend someon trust. put faith a...</td>\n",
       "      <td>0x2de201</td>\n",
       "      <td>test</td>\n",
       "    </tr>\n",
       "    <tr>\n",
       "      <th>9</th>\n",
       "      <td>66</td>\n",
       "      <td>hashtag_tweets</td>\n",
       "      <td>{'tweet': {'hashtags': ['materialism', 'money'...</td>\n",
       "      <td>2015-09-09 09:22:55</td>\n",
       "      <td>tweets</td>\n",
       "      <td>enough ? satisfi ? goal realli money ? #materi...</td>\n",
       "      <td>0x218443</td>\n",
       "      <td>test</td>\n",
       "    </tr>\n",
       "    <tr>\n",
       "      <th>30</th>\n",
       "      <td>104</td>\n",
       "      <td>hashtag_tweets</td>\n",
       "      <td>{'tweet': {'hashtags': ['GodsPlan', 'GodsWork'...</td>\n",
       "      <td>2015-10-10 14:33:26</td>\n",
       "      <td>tweets</td>\n",
       "      <td>god woke up, chase day #godsplan #godswork</td>\n",
       "      <td>0x2939d5</td>\n",
       "      <td>test</td>\n",
       "    </tr>\n",
       "    <tr>\n",
       "      <th>33</th>\n",
       "      <td>310</td>\n",
       "      <td>hashtag_tweets</td>\n",
       "      <td>{'tweet': {'hashtags': [], 'tweet_id': '0x2628...</td>\n",
       "      <td>2016-10-23 08:49:50</td>\n",
       "      <td>tweets</td>\n",
       "      <td>tough times, turn symbol hope?</td>\n",
       "      <td>0x26289a</td>\n",
       "      <td>test</td>\n",
       "    </tr>\n",
       "    <tr>\n",
       "      <th>...</th>\n",
       "      <td>...</td>\n",
       "      <td>...</td>\n",
       "      <td>...</td>\n",
       "      <td>...</td>\n",
       "      <td>...</td>\n",
       "      <td>...</td>\n",
       "      <td>...</td>\n",
       "      <td>...</td>\n",
       "    </tr>\n",
       "    <tr>\n",
       "      <th>1867525</th>\n",
       "      <td>602</td>\n",
       "      <td>hashtag_tweets</td>\n",
       "      <td>{'tweet': {'hashtags': [], 'tweet_id': '0x2913...</td>\n",
       "      <td>2016-12-10 18:01:00</td>\n",
       "      <td>tweets</td>\n",
       "      <td>\"for messag ye heard beginning, love one anoth...</td>\n",
       "      <td>0x2913b4</td>\n",
       "      <td>test</td>\n",
       "    </tr>\n",
       "    <tr>\n",
       "      <th>1867529</th>\n",
       "      <td>598</td>\n",
       "      <td>hashtag_tweets</td>\n",
       "      <td>{'tweet': {'hashtags': [], 'tweet_id': '0x2a98...</td>\n",
       "      <td>2015-01-04 14:40:55</td>\n",
       "      <td>tweets</td>\n",
       "      <td>\"there lad here, hath five barley loaves, two ...</td>\n",
       "      <td>0x2a980e</td>\n",
       "      <td>test</td>\n",
       "    </tr>\n",
       "    <tr>\n",
       "      <th>1867530</th>\n",
       "      <td>827</td>\n",
       "      <td>hashtag_tweets</td>\n",
       "      <td>{'tweet': {'hashtags': ['mixedfeeling', 'butim...</td>\n",
       "      <td>2015-05-12 12:51:52</td>\n",
       "      <td>tweets</td>\n",
       "      <td>buy last 2 ticket remain show sell out.. #mixe...</td>\n",
       "      <td>0x316b80</td>\n",
       "      <td>test</td>\n",
       "    </tr>\n",
       "    <tr>\n",
       "      <th>1867531</th>\n",
       "      <td>368</td>\n",
       "      <td>hashtag_tweets</td>\n",
       "      <td>{'tweet': {'hashtags': [], 'tweet_id': '0x29d0...</td>\n",
       "      <td>2017-10-02 17:54:04</td>\n",
       "      <td>tweets</td>\n",
       "      <td>swear hard work gone pay one day😈💰💸</td>\n",
       "      <td>0x29d0cb</td>\n",
       "      <td>test</td>\n",
       "    </tr>\n",
       "    <tr>\n",
       "      <th>1867532</th>\n",
       "      <td>498</td>\n",
       "      <td>hashtag_tweets</td>\n",
       "      <td>{'tweet': {'hashtags': [], 'tweet_id': '0x2a6a...</td>\n",
       "      <td>2016-10-10 11:04:32</td>\n",
       "      <td>tweets</td>\n",
       "      <td>card left idea get parcel</td>\n",
       "      <td>0x2a6a4f</td>\n",
       "      <td>test</td>\n",
       "    </tr>\n",
       "  </tbody>\n",
       "</table>\n",
       "<p>411972 rows × 8 columns</p>\n",
       "</div>"
      ],
      "text/plain": [
       "         _score          _index  \\\n",
       "2           232  hashtag_tweets   \n",
       "4           989  hashtag_tweets   \n",
       "9            66  hashtag_tweets   \n",
       "30          104  hashtag_tweets   \n",
       "33          310  hashtag_tweets   \n",
       "...         ...             ...   \n",
       "1867525     602  hashtag_tweets   \n",
       "1867529     598  hashtag_tweets   \n",
       "1867530     827  hashtag_tweets   \n",
       "1867531     368  hashtag_tweets   \n",
       "1867532     498  hashtag_tweets   \n",
       "\n",
       "                                                   _source  \\\n",
       "2        {'tweet': {'hashtags': ['bibleverse'], 'tweet_...   \n",
       "4        {'tweet': {'hashtags': [], 'tweet_id': '0x2de2...   \n",
       "9        {'tweet': {'hashtags': ['materialism', 'money'...   \n",
       "30       {'tweet': {'hashtags': ['GodsPlan', 'GodsWork'...   \n",
       "33       {'tweet': {'hashtags': [], 'tweet_id': '0x2628...   \n",
       "...                                                    ...   \n",
       "1867525  {'tweet': {'hashtags': [], 'tweet_id': '0x2913...   \n",
       "1867529  {'tweet': {'hashtags': [], 'tweet_id': '0x2a98...   \n",
       "1867530  {'tweet': {'hashtags': ['mixedfeeling', 'butim...   \n",
       "1867531  {'tweet': {'hashtags': [], 'tweet_id': '0x29d0...   \n",
       "1867532  {'tweet': {'hashtags': [], 'tweet_id': '0x2a6a...   \n",
       "\n",
       "                  _crawldate   _type  \\\n",
       "2        2017-12-25 04:39:20  tweets   \n",
       "4        2016-01-08 17:18:59  tweets   \n",
       "9        2015-09-09 09:22:55  tweets   \n",
       "30       2015-10-10 14:33:26  tweets   \n",
       "33       2016-10-23 08:49:50  tweets   \n",
       "...                      ...     ...   \n",
       "1867525  2016-12-10 18:01:00  tweets   \n",
       "1867529  2015-01-04 14:40:55  tweets   \n",
       "1867530  2015-05-12 12:51:52  tweets   \n",
       "1867531  2017-10-02 17:54:04  tweets   \n",
       "1867532  2016-10-10 11:04:32  tweets   \n",
       "\n",
       "                                                      text  tweet_id  \\\n",
       "2        confid obedience, write you, know even ask. (p...  0x28b412   \n",
       "4        \"trust faith. friend someon trust. put faith a...  0x2de201   \n",
       "9        enough ? satisfi ? goal realli money ? #materi...  0x218443   \n",
       "30              god woke up, chase day #godsplan #godswork  0x2939d5   \n",
       "33                          tough times, turn symbol hope?  0x26289a   \n",
       "...                                                    ...       ...   \n",
       "1867525  \"for messag ye heard beginning, love one anoth...  0x2913b4   \n",
       "1867529  \"there lad here, hath five barley loaves, two ...  0x2a980e   \n",
       "1867530  buy last 2 ticket remain show sell out.. #mixe...  0x316b80   \n",
       "1867531                swear hard work gone pay one day😈💰💸  0x29d0cb   \n",
       "1867532                          card left idea get parcel  0x2a6a4f   \n",
       "\n",
       "        identification  \n",
       "2                 test  \n",
       "4                 test  \n",
       "9                 test  \n",
       "30                test  \n",
       "33                test  \n",
       "...                ...  \n",
       "1867525           test  \n",
       "1867529           test  \n",
       "1867530           test  \n",
       "1867531           test  \n",
       "1867532           test  \n",
       "\n",
       "[411972 rows x 8 columns]"
      ]
     },
     "execution_count": 57,
     "metadata": {},
     "output_type": "execute_result"
    }
   ],
   "source": [
    "test"
   ]
  },
  {
   "cell_type": "code",
   "execution_count": 58,
   "metadata": {},
   "outputs": [],
   "source": [
    "#save the datasets that have been prepocessed and cleaned \n",
    "\n",
    "train_data.to_json('train_data.json')\n",
    "test.to_json('test_data.json')"
   ]
  },
  {
   "cell_type": "markdown",
   "metadata": {},
   "source": [
    "#### 2. train the model"
   ]
  },
  {
   "cell_type": "markdown",
   "metadata": {},
   "source": [
    "##### 2.1 download preprocessing data"
   ]
  },
  {
   "cell_type": "code",
   "execution_count": null,
   "metadata": {},
   "outputs": [],
   "source": [
    "import pandas as pd\n",
    "#download dataset from data preparation\n",
    "train = pd.read_json('train_data.json')\n",
    "train"
   ]
  },
  {
   "cell_type": "code",
   "execution_count": null,
   "metadata": {},
   "outputs": [],
   "source": [
    "test = pd.read_json('test_data.json')\n",
    "test"
   ]
  },
  {
   "cell_type": "code",
   "execution_count": null,
   "metadata": {},
   "outputs": [],
   "source": [
    "from sklearn.model_selection import train_test_split\n",
    "#split training data to training data and validation data\n",
    "train_data,valid_data = train_test_split(train,test_size=0.2,random_state=12)"
   ]
  },
  {
   "cell_type": "markdown",
   "metadata": {},
   "source": [
    "##### 2.2 classification : logistic Regression\n"
   ]
  },
  {
   "cell_type": "code",
   "execution_count": null,
   "metadata": {},
   "outputs": [],
   "source": [
    "from sklearn.linear_model import LogisticRegression\n",
    "from sklearn.feature_extraction.text import CountVectorizer\n",
    "from sklearn.model_selection import train_test_split\n",
    "from sklearn.metrics import accuracy_score"
   ]
  },
  {
   "cell_type": "code",
   "execution_count": null,
   "metadata": {},
   "outputs": [],
   "source": [
    "import nltk\n",
    "#use 2000 features\n",
    "BOW_2000 = CountVectorizer(max_features=2000, tokenizer=nltk.word_tokenize,token_pattern=None)\n",
    "\n",
    "# I use text to train data and emotion to be the label\n",
    "BOW_2000.fit(train_data['text'])\n",
    "x_train = BOW_2000.transform(train_data['text'])\n",
    "y_train = train_data['emotion']\n",
    "x_valid = BOW_2000.transform(valid_data['text'])\n",
    "y_valid = valid_data['emotion']"
   ]
  },
  {
   "cell_type": "code",
   "execution_count": null,
   "metadata": {},
   "outputs": [],
   "source": [
    "lr = LogisticRegression(random_state=12) #logistic Regression"
   ]
  },
  {
   "cell_type": "code",
   "execution_count": null,
   "metadata": {},
   "outputs": [],
   "source": [
    "lr.fit(x_train,y_train)"
   ]
  },
  {
   "cell_type": "code",
   "execution_count": null,
   "metadata": {},
   "outputs": [],
   "source": [
    "y_train_pred = lr.predict(x_train)\n",
    "y_valid_pred = lr.predict(x_valid)"
   ]
  },
  {
   "cell_type": "code",
   "execution_count": null,
   "metadata": {},
   "outputs": [],
   "source": [
    "acc_train = accuracy_score(y_true=y_train, y_pred=y_train_pred)\n",
    "acc_test = accuracy_score(y_true=y_valid, y_pred=y_valid_pred)\n",
    "\n",
    "print('training accuracy: {}'.format(round(acc_train, 2)))\n",
    "print('testing accuracy: {}'.format(round(acc_test, 2)))"
   ]
  },
  {
   "cell_type": "markdown",
   "metadata": {},
   "source": [
    "![Caption for the picture.](img/lr_a.png)"
   ]
  },
  {
   "cell_type": "code",
   "execution_count": null,
   "metadata": {},
   "outputs": [],
   "source": [
    "from sklearn.metrics import confusion_matrix\n",
    "\n",
    "cm = confusion_matrix(y_true=y_valid, y_pred=y_valid_pred) "
   ]
  },
  {
   "cell_type": "code",
   "execution_count": null,
   "metadata": {},
   "outputs": [],
   "source": [
    "# Funciton for visualizing confusion_matrix\n",
    "import matplotlib.pyplot as plt\n",
    "import seaborn as sns\n",
    "import numpy as np\n",
    "import itertools\n",
    "\n",
    "def plot_confusion_matrix(cm, classes, title='Confusion matrix',\n",
    "                          cmap=sns.cubehelix_palette(as_cmap=True)):\n",
    "    \"\"\"\n",
    "    This function is modified from: \n",
    "    http://scikit-learn.org/stable/auto_examples/model_selection/plot_confusion_matrix.html\n",
    "    \"\"\"\n",
    "    classes.sort()\n",
    "    tick_marks = np.arange(len(classes))    \n",
    "    \n",
    "    fig, ax = plt.subplots(figsize=(5,5))\n",
    "    im = ax.imshow(cm, interpolation='nearest', cmap=cmap)\n",
    "    ax.figure.colorbar(im, ax=ax)\n",
    "    ax.set(xticks=np.arange(cm.shape[1]),\n",
    "           yticks=np.arange(cm.shape[0]),\n",
    "           xticklabels = classes,\n",
    "           yticklabels = classes,\n",
    "           title = title,\n",
    "           xlabel = 'True label',\n",
    "           ylabel = 'Predicted label')\n",
    "\n",
    "    fmt = 'd'\n",
    "    thresh = cm.max() / 2.\n",
    "    for i, j in itertools.product(range(cm.shape[0]), range(cm.shape[1])):\n",
    "        plt.text(j, i, format(cm[i, j], fmt), horizontalalignment=\"center\", color=\"white\" if cm[i, j] > thresh else \"black\")\n",
    "    ylim_top = len(classes) - 0.5\n",
    "    plt.ylim([ylim_top, -.5])\n",
    "    plt.tight_layout()\n",
    "    plt.show()"
   ]
  },
  {
   "cell_type": "code",
   "execution_count": null,
   "metadata": {},
   "outputs": [],
   "source": [
    "# plot your confusion matrix\n",
    "my_tags = [emo for emo in train_data['emotion'].value_counts().keys()]\n",
    "plot_confusion_matrix(cm, classes=my_tags, title='Confusion matrix')"
   ]
  },
  {
   "cell_type": "markdown",
   "metadata": {},
   "source": [
    "![Caption for the picture.](img/lr_m.png)"
   ]
  },
  {
   "cell_type": "markdown",
   "metadata": {},
   "source": [
    "##### Naive Bayes"
   ]
  },
  {
   "cell_type": "code",
   "execution_count": null,
   "metadata": {},
   "outputs": [],
   "source": [
    "from sklearn.naive_bayes import MultinomialNB\n",
    "\n",
    "MNB = MultinomialNB()\n",
    "MNB.fit(x_train,y_train)\n"
   ]
  },
  {
   "cell_type": "code",
   "execution_count": null,
   "metadata": {},
   "outputs": [],
   "source": [
    "y_train_pred = MNB.predict(x_train)\n",
    "y_valid_pred = MNB.predict(x_valid)"
   ]
  },
  {
   "cell_type": "code",
   "execution_count": null,
   "metadata": {},
   "outputs": [],
   "source": [
    "acc_train = accuracy_score(y_true=y_train, y_pred=y_train_pred)\n",
    "acc_test = accuracy_score(y_true=y_valid, y_pred=y_valid_pred)\n",
    "\n",
    "print('training accuracy: {}'.format(round(acc_train, 2)))\n",
    "print('testing accuracy: {}'.format(round(acc_test, 2)))"
   ]
  },
  {
   "cell_type": "markdown",
   "metadata": {},
   "source": [
    "![Caption for the picture.](img/NB_a.png)"
   ]
  },
  {
   "cell_type": "code",
   "execution_count": null,
   "metadata": {},
   "outputs": [],
   "source": [
    "cm = confusion_matrix(y_true=y_valid, y_pred=y_valid_pred) \n",
    "plot_confusion_matrix(cm, classes=my_tags, title='Confusion matrix')"
   ]
  },
  {
   "cell_type": "markdown",
   "metadata": {},
   "source": [
    "![Caption for the picture.](img/lr_m.png)"
   ]
  },
  {
   "cell_type": "markdown",
   "metadata": {},
   "source": [
    "##### random forest"
   ]
  },
  {
   "cell_type": "code",
   "execution_count": null,
   "metadata": {},
   "outputs": [],
   "source": [
    "from sklearn.ensemble import RandomForestClassifier\n",
    "rf = RandomForestClassifier(bootstrap=True, n_estimators=1000, max_depth=24, random_state=False)\n",
    "rf.fit(x_train, y_train)"
   ]
  },
  {
   "cell_type": "code",
   "execution_count": null,
   "metadata": {},
   "outputs": [],
   "source": [
    "y_train_pred = rf.predict(x_train)\n",
    "y_valid_pred = rf.predict(x_valid)"
   ]
  },
  {
   "cell_type": "code",
   "execution_count": null,
   "metadata": {},
   "outputs": [],
   "source": [
    "acc_train = accuracy_score(y_true=y_train, y_pred=y_train_pred)\n",
    "acc_test = accuracy_score(y_true=y_valid, y_pred=y_valid_pred)\n",
    "\n",
    "print('training accuracy: {}'.format(round(acc_train, 2)))\n",
    "print('testing accuracy: {}'.format(round(acc_test, 2)))"
   ]
  },
  {
   "cell_type": "markdown",
   "metadata": {},
   "source": [
    "![Caption for the picture.](img/rf_a.png)"
   ]
  },
  {
   "cell_type": "code",
   "execution_count": null,
   "metadata": {},
   "outputs": [],
   "source": [
    "cm = confusion_matrix(y_true=y_valid, y_pred=y_valid_pred) \n",
    "plot_confusion_matrix(cm, classes=my_tags, title='Confusion matrix')"
   ]
  },
  {
   "cell_type": "markdown",
   "metadata": {},
   "source": [
    "![Caption for the picture.](img/rf_m.png)"
   ]
  },
  {
   "cell_type": "code",
   "execution_count": null,
   "metadata": {},
   "outputs": [],
   "source": [
    "x_test = BOW_2000.transform(test['text'])"
   ]
  },
  {
   "cell_type": "code",
   "execution_count": null,
   "metadata": {},
   "outputs": [],
   "source": [
    "#predict and save result\n",
    "BOW_2000_result = lr.predict(x_test)\n",
    "BOW_2000_result"
   ]
  },
  {
   "cell_type": "code",
   "execution_count": null,
   "metadata": {},
   "outputs": [],
   "source": [
    "pd.DataFrame({'id':test['tweet_id'],'emotion':BOW_2000_result}).to_csv('lr_result.csv',index=False)"
   ]
  },
  {
   "cell_type": "code",
   "execution_count": null,
   "metadata": {},
   "outputs": [],
   "source": [
    "MNB_result = MNB.predict(x_test)\n",
    "pd.DataFrame({'id':test['tweet_id'],'emotion':MNB_result}).to_csv('mnb_result.csv',index=False)"
   ]
  },
  {
   "cell_type": "code",
   "execution_count": null,
   "metadata": {},
   "outputs": [],
   "source": [
    "rf_result = rf.predict(x_test)\n",
    "\n",
    "pd.DataFrame({'id':test['tweet_id'],'emotion':rf_result}).to_csv('rf.csv',index=False)"
   ]
  },
  {
   "cell_type": "markdown",
   "metadata": {},
   "source": [
    "##### 2.3 LSTM\n"
   ]
  },
  {
   "cell_type": "code",
   "execution_count": null,
   "metadata": {},
   "outputs": [],
   "source": [
    "from tensorflow import keras\n",
    "from tensorflow.keras.preprocessing.sequence import pad_sequences\n",
    "\n",
    "#preprocessing data\n",
    "tokenizer = keras.preprocessing.text.Tokenizer(num_words=10000, oov_token='<UNK>')\n",
    "tokenizer.fit_on_texts(train_data['text'].tolist())\n",
    "tokenizer.fit_on_texts(valid_data['text'].tolist())\n",
    "def get_sequences(tokenizer, tweets):\n",
    "    sequences = tokenizer.texts_to_sequences(tweets)\n",
    "    padded_sequences = pad_sequences(sequences, truncating='post', maxlen=100, padding='post')\n",
    "    return padded_sequences\n",
    "\n",
    "X_train_keras = get_sequences(tokenizer, train_data['text'].tolist())\n",
    "X_valid_keras = get_sequences(tokenizer, valid_data['text'].tolist())"
   ]
  },
  {
   "cell_type": "code",
   "execution_count": null,
   "metadata": {},
   "outputs": [],
   "source": [
    "emotions = set(train_data['emotion'].tolist())\n",
    "emotions_to_index = dict((c, i) for i, c in enumerate(emotions))\n",
    "index_to_emotions = dict((v, k) for k, v in emotions_to_index.items())\n",
    "names_to_ids = lambda labels: np.array([emotions_to_index.get(x) for x in labels])\n",
    "\n",
    "y_train_keras = names_to_ids(train_data['emotion'].tolist())\n",
    "y_valid_keras = names_to_ids(valid_data['emotion'].tolist())"
   ]
  },
  {
   "cell_type": "code",
   "execution_count": null,
   "metadata": {},
   "outputs": [],
   "source": [
    "X_test_keras = get_sequences(tokenizer,test['text'].tolist())"
   ]
  },
  {
   "cell_type": "code",
   "execution_count": null,
   "metadata": {},
   "outputs": [],
   "source": [
    "#CudnnLSTM model\n",
    "\n",
    "import tensorflow as tf\n",
    "from tensorflow.compat.v1.keras.layers import CuDNNLSTM\n",
    "from keras.callbacks import CSVLogger\n",
    "tf.debugging.set_log_device_placement(True)\n",
    "CudnnLSTM_model = tf.keras.models.Sequential([\n",
    "    tf.keras.layers.Embedding(10000, 256, input_length=100),\n",
    "    tf.keras.layers.Dropout(0.2),\n",
    "    tf.keras.layers.Bidirectional(CuDNNLSTM(100, return_sequences=True)),\n",
    "    tf.keras.layers.Dropout(0.2),\n",
    "    tf.keras.layers.Bidirectional(CuDNNLSTM(100)),\n",
    "\n",
    "    tf.keras.layers.Dense(8, activation='softmax')\n",
    "])\n",
    "\n",
    "csv_logger = CSVLogger('cudnn_2.csv')\n",
    "\n",
    "CudnnLSTM_model.compile(\n",
    "    loss='sparse_categorical_crossentropy',\n",
    "    optimizer='adam',\n",
    "    metrics=['accuracy']\n",
    ")\n",
    "\n",
    "CudnnLSTM_model.summary()\n",
    "\n",
    "history_BILSTM = CudnnLSTM_model.fit(\n",
    "                    X_train_keras, y_train_keras,\n",
    "                    epochs=4,\n",
    "                    batch_size=32, \n",
    "                    callbacks=[csv_logger],\n",
    "                    validation_data = (X_valid_keras, y_valid_keras)\n",
    ")\n",
    "\n",
    "CudnnLSTM_model.save('CudnnLSTM_e4_l_100_2.h5', save_format='tf')"
   ]
  },
  {
   "cell_type": "code",
   "execution_count": null,
   "metadata": {},
   "outputs": [],
   "source": [
    "CudnnLSTM_result = CudnnLSTM_model.predict(X_test_keras, batch_size=32)\n",
    "pd.DataFrame(CudnnLSTM_result).to_csv(\"CudnnLSTM_e4_l_100.csv\")\n",
    "CudnnLSTM_pred_list = np.argmax(CudnnLSTM_result, axis=1)\n",
    "id_to_emotion = lambda labels: np.array([index_to_emotions.get(x) for x in CudnnLSTM_pred_list])\n",
    "CudnnLSTM_id_to_emotion = id_to_emotion(CudnnLSTM_pred_list)"
   ]
  },
  {
   "cell_type": "code",
   "execution_count": null,
   "metadata": {},
   "outputs": [],
   "source": [
    "output = test[['tweet_id']].reset_index(drop=True)\n",
    "output['emotion']=pd.Series(CudnnLSTM_id_to_emotion)\n",
    "output.columns = ['id', 'emotion']\n",
    "output.to_csv('result.csv', index=False) # save result"
   ]
  },
  {
   "cell_type": "markdown",
   "metadata": {},
   "source": [
    "### result discussion\n"
   ]
  },
  {
   "cell_type": "markdown",
   "metadata": {},
   "source": [
    "I have conducted a total of 3 classification and 1 LSTM. The public and \n",
    "\n",
    "private score for each model are below. \n",
    "\n",
    "Scores are arranged from high to low in the following order:\n",
    "\n",
    "Logistic Regression's private and public scores are 0.40233 and 0.41205\n",
    "\n",
    "Naive Bayes classification's private and public scores are 0.378 and 0.3914\n",
    "\n",
    "Random forest classfication's private and public scores are 0.32976 and 0.33401\n",
    "\n",
    "Random forest get lowerst score may the depeth is too shallow and it cannot fit the dataset consist of about 1 million data.\n",
    "But if I use higher depth to fit the model, it will take too much time.\n",
    "\n",
    "LSTM get the better score than classification and private and public scores are 0.44302 and 0.45568\n"
   ]
  },
  {
   "cell_type": "markdown",
   "metadata": {},
   "source": [
    "### The encountered difficult"
   ]
  },
  {
   "cell_type": "markdown",
   "metadata": {},
   "source": [
    "When Preprocessing the data, I didn't account for the impact of elements like https, <LH>, etc. on the text. Additionally, I overlooked the influnce of stop words and stemming. As a result, the initial outcomes were quite poor."
   ]
  },
  {
   "cell_type": "markdown",
   "metadata": {},
   "source": [
    "### I can improved"
   ]
  },
  {
   "cell_type": "markdown",
   "metadata": {},
   "source": [
    "Try on better NLP model like BERT.\n",
    "Adjusted and utilized better parameters to train my best model, Cudnn LSTM."
   ]
  }
 ],
 "metadata": {
  "kernelspec": {
   "display_name": "Python 3 (ipykernel)",
   "language": "python",
   "name": "python3"
  },
  "language_info": {
   "codemirror_mode": {
    "name": "ipython",
    "version": 3
   },
   "file_extension": ".py",
   "mimetype": "text/x-python",
   "name": "python",
   "nbconvert_exporter": "python",
   "pygments_lexer": "ipython3",
   "version": "3.8.18"
  },
  "varInspector": {
   "cols": {
    "lenName": 16,
    "lenType": 16,
    "lenVar": 40
   },
   "kernels_config": {
    "python": {
     "delete_cmd_postfix": "",
     "delete_cmd_prefix": "del ",
     "library": "var_list.py",
     "varRefreshCmd": "print(var_dic_list())"
    },
    "r": {
     "delete_cmd_postfix": ") ",
     "delete_cmd_prefix": "rm(",
     "library": "var_list.r",
     "varRefreshCmd": "cat(var_dic_list()) "
    }
   },
   "types_to_exclude": [
    "module",
    "function",
    "builtin_function_or_method",
    "instance",
    "_Feature"
   ],
   "window_display": false
  }
 },
 "nbformat": 4,
 "nbformat_minor": 2
}
